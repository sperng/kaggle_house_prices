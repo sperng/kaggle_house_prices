{
 "cells": [
  {
   "cell_type": "code",
   "execution_count": 1,
   "metadata": {},
   "outputs": [],
   "source": [
    "#imports\n",
    "import pandas as pd\n",
    "import numpy as np\n",
    "import matplotlib.pyplot as plt\n",
    "import seaborn as sns\n",
    "import zipfile\n",
    "import umap\n",
    "import shap\n",
    "import tensorflow as tf\n",
    "pd.set_option('display.max_columns', None)\n",
    "pd.set_option('display.max_rows', None)\n",
    "%matplotlib inline"
   ]
  },
  {
   "cell_type": "code",
   "execution_count": 2,
   "metadata": {},
   "outputs": [],
   "source": [
    "#ml imports\n",
    "from tune_sklearn import TuneSearchCV\n",
    "from sklearn import metrics, model_selection\n",
    "from sklearn.metrics import classification_report, confusion_matrix\n",
    "from sklearn.preprocessing import StandardScaler\n",
    "from sklearn.model_selection import train_test_split, cross_val_score, KFold, RandomizedSearchCV\n",
    "from sklearn.decomposition import PCA\n",
    "from sklearn.ensemble import RandomForestRegressor, GradientBoostingRegressor\n",
    "from sklearn.feature_selection import SelectFromModel\n",
    "from sklearn.linear_model import LinearRegression, LogisticRegression\n",
    "from sklearn.svm import SVR\n",
    "from sklearn.neighbors import KNeighborsRegressor\n",
    "from sklearn.tree import DecisionTreeRegressor\n",
    "from xgboost import XGBRegressor\n",
    "#tensorflow imports\n",
    "from tensorflow.keras.models import Sequential\n",
    "from tensorflow.keras.layers import Dense, Activation,Dropout\n",
    "from tensorflow.keras.constraints import max_norm"
   ]
  },
  {
   "cell_type": "code",
   "execution_count": 3,
   "metadata": {},
   "outputs": [],
   "source": [
    "df = pd.read_csv('.\\\\data\\\\train.csv')"
   ]
  },
  {
   "cell_type": "code",
   "execution_count": 4,
   "metadata": {},
   "outputs": [],
   "source": [
    "df_test = pd.read_csv('.\\\\data\\\\test.csv')"
   ]
  },
  {
   "cell_type": "code",
   "execution_count": 5,
   "metadata": {},
   "outputs": [],
   "source": [
    "file = open('.//data/data_description.txt', 'r')"
   ]
  },
  {
   "cell_type": "code",
   "execution_count": 6,
   "metadata": {},
   "outputs": [],
   "source": [
    "#with open('.//data/data_description.txt') as file:\n",
    "#    text_data = file.readlines()\n",
    "#for temp in text_data:\n",
    "#    print(temp.strip())"
   ]
  },
  {
   "cell_type": "code",
   "execution_count": 7,
   "metadata": {},
   "outputs": [],
   "source": [
    "#similar sounding column names to later compare/columns to possibly combine to avoid collinearity:\n",
    "#Condition1, Condition2\n",
    "#OverallQual, OverallCond\n",
    "#YearBuilt,YearRemodAdd\n",
    "#Exterior1st, Exterior2nd\n",
    "#ExterQual, ExterCond\n",
    "#BsmtFinSF1, BsmtFinType2, BsmntUnfSF, TotalBsmtSF\n",
    "#BsmtFullBath, BsmtHalfBath\n",
    "#FullBath, HalfBath\n",
    "#All of the number and quality columns\n",
    "#GarageCars, GarageArea\n",
    "#GarageQual, GarageCond\n",
    "#WoodDeckSF, OpenPorchSF, EnclosedPorch, 3SsnPorch\n",
    "#MiscFeature, MiscVal"
   ]
  },
  {
   "cell_type": "markdown",
   "metadata": {},
   "source": [
    "# Data Exploration/Data Preprocessing\n",
    "### The label is the SalePrice column  \n",
    "We want to explore the distribution of the label and explore correlation between feature variables. This is a dataset with a large amount of feature variables, so part of the challenge will be selecting the ones that are important for predicting the label. Additionally, data engineering to combine variables may be necessary for very similar features or the removal of any redundant features. We can also attempt to reduce dimensionality with PCA, and generally filter out variables with low variance or high correlation.  \n",
    "  \n",
    "For Data Preprocessing, inconsistencies, na values, and other issues will addressed alongside the exploration when it seems convenient."
   ]
  },
  {
   "cell_type": "code",
   "execution_count": 8,
   "metadata": {},
   "outputs": [],
   "source": [
    "#df.info()"
   ]
  },
  {
   "cell_type": "code",
   "execution_count": 9,
   "metadata": {},
   "outputs": [],
   "source": [
    "#df.describe()"
   ]
  },
  {
   "cell_type": "code",
   "execution_count": 134,
   "metadata": {},
   "outputs": [
    {
     "data": {
      "text/plain": [
       "<seaborn.axisgrid.FacetGrid at 0x2910c4547c0>"
      ]
     },
     "execution_count": 134,
     "metadata": {},
     "output_type": "execute_result"
    },
    {
     "data": {
      "image/png": "[encoded data removed]",
      "text/plain": [
       "<Figure size 360x360 with 1 Axes>"
      ]
     },
     "metadata": {
      "needs_background": "light"
     },
     "output_type": "display_data"
    }
   ],
   "source": [
    "#Distribution plot of label, appears to be normally distributed with a few high outliers\n",
    "sns.displot(data=df,x='SalePrice')"
   ]
  },
  {
   "cell_type": "code",
   "execution_count": 138,
   "metadata": {},
   "outputs": [
    {
     "data": {
      "text/plain": [
       "SalePrice               1.000000\n",
       "OverallQual             0.786212\n",
       "GrLivArea               0.709795\n",
       "GarageCars              0.636118\n",
       "GarageArea              0.607210\n",
       "TotalBsmtSF             0.602981\n",
       "1stFlrSF                0.595994\n",
       "FullBath                0.558644\n",
       "TotRmsAbvGrd            0.541117\n",
       "YearBuilt               0.507696\n",
       "YearRemodAdd            0.505673\n",
       "Foundation_PConc        0.491353\n",
       "GarageYrBlt             0.486220\n",
       "MasVnrArea              0.468083\n",
       "Fireplaces              0.450939\n",
       "ExterQual_Gd            0.439688\n",
       "BsmtFinType1_GLQ        0.431882\n",
       "Neighborhood_NridgHt    0.396770\n",
       "BsmtFinSF1              0.373079\n",
       "SaleType_New            0.356627\n",
       "Name: SalePrice, dtype: float64"
      ]
     },
     "execution_count": 138,
     "metadata": {},
     "output_type": "execute_result"
    }
   ],
   "source": [
    "#Correlation with label\n",
    "df.corr()['SalePrice'].sort_values(ascending=False).head(20)"
   ]
  },
  {
   "cell_type": "code",
   "execution_count": 12,
   "metadata": {},
   "outputs": [],
   "source": [
    "#check value_counts() of dimensions"
   ]
  },
  {
   "cell_type": "markdown",
   "metadata": {},
   "source": [
    "OverallQual column: Rates the overal material and finish of the house\n",
    "GrLivArea: Above grade (ground) living area square feet\n",
    "GarageCars: Size of garage in car capacity\n",
    "GarageArea: Size of garage in square feet\n"
   ]
  },
  {
   "cell_type": "code",
   "execution_count": 13,
   "metadata": {},
   "outputs": [
    {
     "data": {
      "text/plain": [
       "<AxesSubplot:>"
      ]
     },
     "execution_count": 13,
     "metadata": {},
     "output_type": "execute_result"
    },
    {
     "data": {
      "image/png": "[encoded data removed]",
      "text/plain": [
       "<Figure size 1728x720 with 2 Axes>"
      ]
     },
     "metadata": {
      "needs_background": "light"
     },
     "output_type": "display_data"
    }
   ],
   "source": [
    "plt.figure(figsize=(24,10))\n",
    "sns.heatmap(data=df.corr(),cmap='viridis')"
   ]
  },
  {
   "cell_type": "markdown",
   "metadata": {},
   "source": [
    "We can try predicting based on a manual selection on some of these dimensions or we can use Principal Component Analysis to reduce the dimensionality of this data set and eliminate multicollinearity among the predictor variables. We'll try reducing the dimensions first"
   ]
  },
  {
   "cell_type": "code",
   "execution_count": 14,
   "metadata": {},
   "outputs": [
    {
     "data": {
      "text/plain": [
       "<AxesSubplot:>"
      ]
     },
     "execution_count": 14,
     "metadata": {},
     "output_type": "execute_result"
    },
    {
     "data": {
      "image/png": "[encoded data removed]",
      "text/plain": [
       "<Figure size 1008x576 with 1 Axes>"
      ]
     },
     "metadata": {
      "needs_background": "light"
     },
     "output_type": "display_data"
    }
   ],
   "source": [
    "#Alley, PoolQC, Fence, MiscFeature are mostly empty. We can turn them into binary labels,\n",
    "#or drop them completely.\n",
    "plt.figure(figsize=(14,8))\n",
    "sns.heatmap(df.isnull(),yticklabels=False, cbar=False, cmap='viridis')"
   ]
  },
  {
   "cell_type": "markdown",
   "metadata": {},
   "source": [
    "# Data Preprocessing"
   ]
  },
  {
   "cell_type": "code",
   "execution_count": 15,
   "metadata": {},
   "outputs": [
    {
     "data": {
      "text/plain": [
       "Grvl    50\n",
       "Pave    41\n",
       "Name: Alley, dtype: int64"
      ]
     },
     "execution_count": 15,
     "metadata": {},
     "output_type": "execute_result"
    }
   ],
   "source": [
    "#Alley\n",
    "df['Alley'].value_counts()"
   ]
  },
  {
   "cell_type": "code",
   "execution_count": 16,
   "metadata": {},
   "outputs": [],
   "source": [
    "df['Alley'] = df['Alley'].fillna(value='None')"
   ]
  },
  {
   "cell_type": "code",
   "execution_count": 17,
   "metadata": {},
   "outputs": [
    {
     "data": {
      "text/plain": [
       "Gd    3\n",
       "Fa    2\n",
       "Ex    2\n",
       "Name: PoolQC, dtype: int64"
      ]
     },
     "execution_count": 17,
     "metadata": {},
     "output_type": "execute_result"
    }
   ],
   "source": [
    "#PoolQC, only 7 values so I will drop\n",
    "df['PoolQC'].value_counts()"
   ]
  },
  {
   "cell_type": "code",
   "execution_count": 18,
   "metadata": {},
   "outputs": [],
   "source": [
    "df.drop(columns='PoolQC',axis=1,inplace=True)"
   ]
  },
  {
   "cell_type": "code",
   "execution_count": 19,
   "metadata": {},
   "outputs": [
    {
     "data": {
      "text/plain": [
       "MnPrv    157\n",
       "GdPrv     59\n",
       "GdWo      54\n",
       "MnWw      11\n",
       "Name: Fence, dtype: int64"
      ]
     },
     "execution_count": 19,
     "metadata": {},
     "output_type": "execute_result"
    }
   ],
   "source": [
    "#Fence\n",
    "df['Fence'].value_counts()"
   ]
  },
  {
   "cell_type": "code",
   "execution_count": 20,
   "metadata": {},
   "outputs": [],
   "source": [
    "#fillna for fence\n",
    "df['Fence'] = df['Fence'].fillna(value='None')"
   ]
  },
  {
   "cell_type": "code",
   "execution_count": 21,
   "metadata": {},
   "outputs": [
    {
     "data": {
      "text/plain": [
       "Shed    49\n",
       "Gar2     2\n",
       "Othr     2\n",
       "TenC     1\n",
       "Name: MiscFeature, dtype: int64"
      ]
     },
     "execution_count": 21,
     "metadata": {},
     "output_type": "execute_result"
    }
   ],
   "source": [
    "#MiscFeature, less than 5 percent are filled, and shed does not seem like it would matter \n",
    "#while the value of the tennis court house likely has other dimensions that will account for it\n",
    "df['MiscFeature'].value_counts()"
   ]
  },
  {
   "cell_type": "code",
   "execution_count": 22,
   "metadata": {},
   "outputs": [],
   "source": [
    "df.drop(columns='MiscFeature',axis=1,inplace=True)"
   ]
  },
  {
   "cell_type": "code",
   "execution_count": 23,
   "metadata": {},
   "outputs": [
    {
     "data": {
      "text/plain": [
       "0    690\n",
       "1    650\n",
       "2    115\n",
       "3      5\n",
       "Name: Fireplaces, dtype: int64"
      ]
     },
     "execution_count": 23,
     "metadata": {},
     "output_type": "execute_result"
    }
   ],
   "source": [
    "#Fireplaces is probably good enough without the fireplace quality column so we will drop it\n",
    "df['Fireplaces'].value_counts()"
   ]
  },
  {
   "cell_type": "code",
   "execution_count": 24,
   "metadata": {},
   "outputs": [],
   "source": [
    "df.drop(columns='FireplaceQu',axis=1,inplace=True)"
   ]
  },
  {
   "cell_type": "code",
   "execution_count": 25,
   "metadata": {},
   "outputs": [
    {
     "data": {
      "text/plain": [
       "<seaborn.axisgrid.FacetGrid at 0x2910b596a60>"
      ]
     },
     "execution_count": 25,
     "metadata": {},
     "output_type": "execute_result"
    },
    {
     "data": {
      "image/png": "[encoded data removed]",
      "text/plain": [
       "<Figure size 360x360 with 1 Axes>"
      ]
     },
     "metadata": {
      "needs_background": "light"
     },
     "output_type": "display_data"
    }
   ],
   "source": [
    "#LotFrontage\n",
    "sns.displot(data=df,x='LotFrontage')"
   ]
  },
  {
   "cell_type": "code",
   "execution_count": 26,
   "metadata": {},
   "outputs": [],
   "source": [
    "#fillna of LotFrontage, replace with 0\n",
    "df['LotFrontage'] = df['LotFrontage'].fillna(value=0)"
   ]
  },
  {
   "cell_type": "code",
   "execution_count": 27,
   "metadata": {},
   "outputs": [
    {
     "data": {
      "text/plain": [
       "Index(['MSZoning', 'Street', 'Alley', 'LotShape', 'LandContour', 'Utilities',\n",
       "       'LotConfig', 'LandSlope', 'Neighborhood', 'Condition1', 'Condition2',\n",
       "       'BldgType', 'HouseStyle', 'RoofStyle', 'RoofMatl', 'Exterior1st',\n",
       "       'Exterior2nd', 'MasVnrType', 'ExterQual', 'ExterCond', 'Foundation',\n",
       "       'BsmtQual', 'BsmtCond', 'BsmtExposure', 'BsmtFinType1', 'BsmtFinType2',\n",
       "       'Heating', 'HeatingQC', 'CentralAir', 'Electrical', 'KitchenQual',\n",
       "       'Functional', 'GarageType', 'GarageFinish', 'GarageQual', 'GarageCond',\n",
       "       'PavedDrive', 'Fence', 'SaleType', 'SaleCondition'],\n",
       "      dtype='object')"
      ]
     },
     "execution_count": 27,
     "metadata": {},
     "output_type": "execute_result"
    }
   ],
   "source": [
    "df.select_dtypes(include='object').columns"
   ]
  },
  {
   "cell_type": "code",
   "execution_count": 28,
   "metadata": {},
   "outputs": [],
   "source": [
    "df = pd.get_dummies(data=df,columns=['MSZoning', 'Street', 'Alley', 'LotShape', 'LandContour', 'Utilities',\n",
    "       'LotConfig', 'LandSlope', 'Neighborhood', 'Condition1', 'Condition2',\n",
    "       'BldgType', 'HouseStyle', 'RoofStyle', 'RoofMatl', 'Exterior1st',\n",
    "       'Exterior2nd', 'MasVnrType', 'ExterQual', 'ExterCond', 'Foundation',\n",
    "       'BsmtQual', 'BsmtCond', 'BsmtExposure', 'BsmtFinType1', 'BsmtFinType2',\n",
    "       'Heating', 'HeatingQC', 'CentralAir', 'Electrical', 'KitchenQual',\n",
    "       'Functional', 'GarageType', 'GarageFinish', 'GarageQual', 'GarageCond',\n",
    "       'PavedDrive', 'Fence', 'SaleType', 'SaleCondition'], drop_first=True)"
   ]
  },
  {
   "cell_type": "code",
   "execution_count": 29,
   "metadata": {},
   "outputs": [],
   "source": [
    "#quick drop of remaining NA rows, they represent less than 10% of data\n",
    "df.dropna(inplace=True)"
   ]
  },
  {
   "cell_type": "code",
   "execution_count": 30,
   "metadata": {},
   "outputs": [],
   "source": [
    "#remove label and Id column from PCA\n",
    "df_pca = df.drop(labels='SalePrice',axis=1)"
   ]
  },
  {
   "cell_type": "code",
   "execution_count": 31,
   "metadata": {},
   "outputs": [],
   "source": [
    "#standardize, fit, transform data\n",
    "scaler = StandardScaler()"
   ]
  },
  {
   "cell_type": "code",
   "execution_count": 32,
   "metadata": {},
   "outputs": [],
   "source": [
    "x_pca = scaler.fit_transform(df_pca)"
   ]
  },
  {
   "cell_type": "code",
   "execution_count": 33,
   "metadata": {},
   "outputs": [],
   "source": [
    "#PCA with 20 components, roughly 10% of the original number of dimensions\n",
    "pca = PCA(n_components=50)"
   ]
  },
  {
   "cell_type": "code",
   "execution_count": 34,
   "metadata": {},
   "outputs": [
    {
     "data": {
      "text/plain": [
       "PCA(n_components=50)"
      ]
     },
     "execution_count": 34,
     "metadata": {},
     "output_type": "execute_result"
    }
   ],
   "source": [
    "pca.fit(x_pca)"
   ]
  },
  {
   "cell_type": "code",
   "execution_count": 35,
   "metadata": {},
   "outputs": [],
   "source": [
    "#transform into 20 principal components\n",
    "x_pca = pca.transform(x_pca)"
   ]
  },
  {
   "cell_type": "code",
   "execution_count": 36,
   "metadata": {},
   "outputs": [
    {
     "data": {
      "text/plain": [
       "(1371, 50)"
      ]
     },
     "execution_count": 36,
     "metadata": {},
     "output_type": "execute_result"
    }
   ],
   "source": [
    "x_pca.shape"
   ]
  },
  {
   "cell_type": "code",
   "execution_count": 37,
   "metadata": {},
   "outputs": [
    {
     "data": {
      "text/plain": [
       "array([[-0.00372234,  0.00645879,  0.03809112, ..., -0.01241703,\n",
       "        -0.06089321,  0.11203479],\n",
       "       [-0.00236703,  0.11849904, -0.00110753, ..., -0.00283526,\n",
       "        -0.03972576,  0.06006664],\n",
       "       [ 0.00237805, -0.02789544,  0.0974859 , ...,  0.01135985,\n",
       "        -0.02161294,  0.01302444],\n",
       "       ...,\n",
       "       [-0.02185178,  0.10175304,  0.02469448, ..., -0.14135494,\n",
       "         0.01970047,  0.01644314],\n",
       "       [ 0.02964881, -0.01124558, -0.15129207, ..., -0.00850362,\n",
       "        -0.0671255 ,  0.04169384],\n",
       "       [-0.06128672,  0.05563452,  0.08290664, ..., -0.07548819,\n",
       "         0.03114438,  0.02369486]])"
      ]
     },
     "execution_count": 37,
     "metadata": {},
     "output_type": "execute_result"
    }
   ],
   "source": [
    "pca.components_"
   ]
  },
  {
   "cell_type": "code",
   "execution_count": 38,
   "metadata": {},
   "outputs": [],
   "source": [
    "x_pca = pd.DataFrame(pca.components_,columns=df_pca.columns)"
   ]
  },
  {
   "cell_type": "code",
   "execution_count": 39,
   "metadata": {},
   "outputs": [
    {
     "data": {
      "text/plain": [
       "<AxesSubplot:>"
      ]
     },
     "execution_count": 39,
     "metadata": {},
     "output_type": "execute_result"
    },
    {
     "data": {
      "image/png": "[encoded data removed]",
      "text/plain": [
       "<Figure size 1008x648 with 2 Axes>"
      ]
     },
     "metadata": {
      "needs_background": "light"
     },
     "output_type": "display_data"
    }
   ],
   "source": [
    "plt.figure(figsize=(14,9))\n",
    "sns.heatmap(x_pca)"
   ]
  },
  {
   "cell_type": "code",
   "execution_count": 40,
   "metadata": {},
   "outputs": [
    {
     "data": {
      "image/png": "[encoded data removed]",
      "text/plain": [
       "<Figure size 432x288 with 1 Axes>"
      ]
     },
     "metadata": {
      "needs_background": "light"
     },
     "output_type": "display_data"
    }
   ],
   "source": [
    "pd.DataFrame(pca.explained_variance_ratio_).plot.bar()\n",
    "plt.legend('')\n",
    "plt.xlabel('Principal Components')\n",
    "plt.ylabel('Explained Varience');"
   ]
  },
  {
   "cell_type": "code",
   "execution_count": 41,
   "metadata": {},
   "outputs": [
    {
     "data": {
      "text/plain": [
       "0.06859459754248144"
      ]
     },
     "execution_count": 41,
     "metadata": {},
     "output_type": "execute_result"
    }
   ],
   "source": [
    "#\n",
    "#We can run build a simple prediction model on this first component and check our results \n",
    "pca.explained_variance_ratio_[0]\n",
    "#x_pca[:1].stack().sort_values(ascending=False)"
   ]
  },
  {
   "cell_type": "markdown",
   "metadata": {},
   "source": [
    "The explained variance by the first principal vector is very low, so I will try to select features based on feature importance using a random forest regressor"
   ]
  },
  {
   "cell_type": "code",
   "execution_count": 42,
   "metadata": {},
   "outputs": [],
   "source": [
    "rf = RandomForestRegressor(max_depth=20)"
   ]
  },
  {
   "cell_type": "markdown",
   "metadata": {},
   "source": [
    "# The Data used for model training below.   \n",
    "X will be all the dimensions  \n",
    "y will be the label  \n",
    "X_df is the scaled labels  "
   ]
  },
  {
   "cell_type": "code",
   "execution_count": 43,
   "metadata": {},
   "outputs": [],
   "source": [
    "#need train test split, or a seperate variable to fit transform the label but not fit it\n",
    "X = df.drop(labels=['SalePrice','Id'],axis=1)\n",
    "y = df['SalePrice']\n",
    "X_df = scaler.fit_transform(df.drop(labels=['SalePrice','Id'],axis=1))"
   ]
  },
  {
   "cell_type": "code",
   "execution_count": 44,
   "metadata": {},
   "outputs": [
    {
     "data": {
      "text/plain": [
       "RandomForestRegressor(max_depth=20)"
      ]
     },
     "execution_count": 44,
     "metadata": {},
     "output_type": "execute_result"
    }
   ],
   "source": [
    "rf.fit(X_df,y)"
   ]
  },
  {
   "cell_type": "code",
   "execution_count": 45,
   "metadata": {},
   "outputs": [
    {
     "data": {
      "image/png": "[encoded data removed]",
      "text/plain": [
       "<Figure size 432x288 with 1 Axes>"
      ]
     },
     "metadata": {
      "needs_background": "light"
     },
     "output_type": "display_data"
    }
   ],
   "source": [
    "features = df.drop(labels='SalePrice',axis=1).columns\n",
    "importances = rf.feature_importances_\n",
    "indices = np.argsort(importances)[-20:]  # top 10 features\n",
    "plt.title('Feature Importances')\n",
    "plt.barh(range(len(indices)), importances[indices], color='b', align='center')\n",
    "plt.yticks(range(len(indices)), [features[i] for i in indices])\n",
    "plt.xlabel('Relative Importance')\n",
    "plt.show()"
   ]
  },
  {
   "cell_type": "code",
   "execution_count": 46,
   "metadata": {},
   "outputs": [
    {
     "data": {
      "text/plain": [
       "array([[1.        , 0.59123769],\n",
       "       [0.59123769, 1.        ]])"
      ]
     },
     "execution_count": 46,
     "metadata": {},
     "output_type": "execute_result"
    }
   ],
   "source": [
    "np.corrcoef(x=df['OverallQual'],y=df['GrLivArea'])"
   ]
  },
  {
   "cell_type": "code",
   "execution_count": 47,
   "metadata": {},
   "outputs": [
    {
     "data": {
      "text/plain": [
       "array([[1.        , 0.51950515],\n",
       "       [0.51950515, 1.        ]])"
      ]
     },
     "execution_count": 47,
     "metadata": {},
     "output_type": "execute_result"
    }
   ],
   "source": [
    "np.corrcoef(x=df['TotalBsmtSF'],y=df['BsmtFinSF1'])"
   ]
  },
  {
   "cell_type": "code",
   "execution_count": 48,
   "metadata": {},
   "outputs": [],
   "source": [
    "features = SelectFromModel(rf)"
   ]
  },
  {
   "cell_type": "code",
   "execution_count": 49,
   "metadata": {},
   "outputs": [],
   "source": [
    "Fit = features.fit_transform(X_df,y)"
   ]
  },
  {
   "cell_type": "code",
   "execution_count": 50,
   "metadata": {},
   "outputs": [
    {
     "name": "stdout",
     "output_type": "stream",
     "text": [
      "[[ 0.20624289 -0.21883609  0.6096228  ... -0.77069864  0.21560696\n",
      "   1.1420165 ]\n",
      " [ 0.63470891 -0.10632348 -0.1346273  ...  1.58106361 -0.72343197\n",
      "   1.1420165 ]\n",
      " [ 0.2919361   0.05510767  0.6096228  ... -0.77069864 -0.07688058\n",
      "   1.1420165 ]\n",
      " ...\n",
      " [ 0.23480729 -0.16091655  0.6096228  ... -0.77069864  0.20021288\n",
      "  -0.87564409]\n",
      " [ 0.2919361  -0.09487654 -0.8788774  ...  2.11770735 -0.72343197\n",
      "  -0.87564409]\n",
      " [ 0.4918869  -0.07335239 -0.8788774  ...  5.03768062  0.32336552\n",
      "  -0.87564409]]\n"
     ]
    }
   ],
   "source": [
    "print(Fit)"
   ]
  },
  {
   "cell_type": "code",
   "execution_count": 51,
   "metadata": {},
   "outputs": [],
   "source": [
    "#Train test split\n",
    "X_train, X_test, y_train, y_test = train_test_split(X, y, test_size=0.25, random_state=42)"
   ]
  },
  {
   "cell_type": "code",
   "execution_count": 52,
   "metadata": {},
   "outputs": [],
   "source": [
    "#Test regression models\n",
    "models = []\n",
    "models.append(('LinR', LinearRegression()))\n",
    "models.append(('SVR', SVR()))\n",
    "models.append(('KNR', KNeighborsRegressor()))\n",
    "models.append(('RF', RandomForestRegressor(max_depth=30)))\n",
    "models.append(('GBR', GradientBoostingRegressor()))\n",
    "models.append(('XGR', XGBRegressor()))\n",
    "models.append(('DT', DecisionTreeRegressor()))"
   ]
  },
  {
   "cell_type": "code",
   "execution_count": 53,
   "metadata": {},
   "outputs": [
    {
     "name": "stdout",
     "output_type": "stream",
     "text": [
      "LinR: 0.636931 (0.369156)\n",
      "SVR: -0.050942 (0.028558)\n",
      "KNR: 0.640661 (0.069700)\n",
      "RF: 0.850391 (0.070124)\n",
      "GBR: 0.882297 (0.075637)\n",
      "XGR: 0.839867 (0.101170)\n",
      "DT: 0.732125 (0.072793)\n"
     ]
    },
    {
     "data": {
      "image/png": "[encoded data removed]",
      "text/plain": [
       "<Figure size 432x288 with 1 Axes>"
      ]
     },
     "metadata": {
      "needs_background": "light"
     },
     "output_type": "display_data"
    }
   ],
   "source": [
    "results = []\n",
    "names = []\n",
    "scoring = 'accuracy'\n",
    "for name, model in models:\n",
    "    kfold = model_selection.KFold(n_splits=10)\n",
    "    cv_results = model_selection.cross_val_score(model, X_train, y_train, cv=kfold)\n",
    "    results.append(cv_results)\n",
    "    names.append(name)\n",
    "    msg = \"%s: %f (%f)\" % (name, cv_results.mean(), cv_results.std())\n",
    "    print(msg)\n",
    "# boxplot algorithm comparison\n",
    "fig = plt.figure()\n",
    "fig.suptitle('Comparison between different MLAs')\n",
    "ax = fig.add_subplot(111)\n",
    "plt.boxplot(results)\n",
    "ax.set_xticklabels(names)\n",
    "plt.show()"
   ]
  },
  {
   "cell_type": "markdown",
   "metadata": {},
   "source": [
    "Testing the best hyperparameters for RandomForestRegressor"
   ]
  },
  {
   "cell_type": "code",
   "execution_count": 54,
   "metadata": {},
   "outputs": [],
   "source": [
    "#The RandomForestRegressor seems to be the best choice of algorithm along with GradientBoost\n",
    "#We will use RandomizedSearchCV to find the best hyperparameters\n",
    "\n",
    "#number of trees\n",
    "n_estimators = [100,200,300,400,500,1000]\n",
    "\n",
    "#max number of features at every split\n",
    "max_features = ['auto','sqrt','log2']\n",
    "\n",
    "#max levels in tree\n",
    "max_depth=[10,20,30,40,50]\n",
    "max_depth.append(None)\n",
    "\n",
    "#min number of samples required to split a node\n",
    "min_samples_split = [2,5,10,15,20]\n",
    "\n",
    "#min samples per leaf\n",
    "min_samples_leaf = [1,2,5,10,15]\n",
    "\n",
    "#dictionary of parameters\n",
    "grid_param = {'n_estimators': n_estimators,\n",
    "             'max_features': max_features,\n",
    "             'max_depth': max_depth,\n",
    "             'min_samples_split': min_samples_split,\n",
    "             'min_samples_leaf': min_samples_leaf}"
   ]
  },
  {
   "cell_type": "code",
   "execution_count": 55,
   "metadata": {},
   "outputs": [],
   "source": [
    "rf = RandomForestRegressor()\n",
    "rf_random = RandomizedSearchCV(estimator=rf,\n",
    "                              param_distributions= grid_param, n_iter = 500,\n",
    "                              cv = 5, verbose = 2, n_jobs=-1)"
   ]
  },
  {
   "cell_type": "code",
   "execution_count": 56,
   "metadata": {
    "scrolled": true
   },
   "outputs": [],
   "source": [
    "#rf_random.fit(X, y)\n",
    "#print(rf_random.best_params_)"
   ]
  },
  {
   "cell_type": "code",
   "execution_count": 57,
   "metadata": {},
   "outputs": [],
   "source": [
    "#result: {'n_estimators': 200, 'min_samples_split': 2, 'min_samples_leaf': 1, 'max_features': 'auto', 'max_depth': 40}"
   ]
  },
  {
   "cell_type": "markdown",
   "metadata": {},
   "source": [
    "Testing the best hyperparameters for GradientBoostingRegressor"
   ]
  },
  {
   "cell_type": "code",
   "execution_count": 58,
   "metadata": {},
   "outputs": [],
   "source": [
    "#number of trees\n",
    "n_estimators = [100,200,300]\n",
    "\n",
    "#max levels in a tree\n",
    "max_depth=[1,2,3,4,8,10,20,30]\n",
    "max_depth.append(None)\n",
    "\n",
    "#learning rates\n",
    "learning_rate = [0.01,0.1,1,10]\n",
    "\n",
    "#min number of samples required to split a node\n",
    "min_samples_split = [2,5,10,15]\n",
    "\n",
    "#min samples per leaf\n",
    "min_samples_leaf = [1,2,3,4,5]\n",
    "\n",
    "grid_param = {'n_estimators': n_estimators,\n",
    "             'max_depth': max_depth,\n",
    "             'learning_rate': learning_rate,\n",
    "             'min_samples_split': min_samples_split,\n",
    "             'min_samples_leaf': min_samples_leaf}"
   ]
  },
  {
   "cell_type": "code",
   "execution_count": 59,
   "metadata": {},
   "outputs": [],
   "source": [
    "gbr = GradientBoostingRegressor()\n",
    "gbr_random = RandomizedSearchCV(estimator=gbr,\n",
    "                              param_distributions= grid_param, n_iter = 500,\n",
    "                              cv = 5, verbose = 2, n_jobs=-1)"
   ]
  },
  {
   "cell_type": "code",
   "execution_count": 60,
   "metadata": {},
   "outputs": [],
   "source": [
    "#gbr_random.fit(X,y)\n",
    "#print(gbr_random.best_params_)"
   ]
  },
  {
   "cell_type": "code",
   "execution_count": 61,
   "metadata": {},
   "outputs": [],
   "source": [
    "#best params: {'n_estimators': 200, 'min_samples_split': 10, 'min_samples_leaf': 1, 'max_depth': 2, 'learning_rate': 0.1}"
   ]
  },
  {
   "cell_type": "markdown",
   "metadata": {},
   "source": [
    "Testing the best hyperparameters for XGBRegressor"
   ]
  },
  {
   "cell_type": "code",
   "execution_count": 62,
   "metadata": {},
   "outputs": [],
   "source": [
    "#number of trees\n",
    "n_estimators = [100,200,300,400]\n",
    "\n",
    "#max levels in a tree\n",
    "max_depth=[1,2,3,4,8,10]\n",
    "max_depth.append(None)\n",
    "\n",
    "#min child weight\n",
    "min_child_weight = [1,3,5,7]\n",
    "\n",
    "#learning rates\n",
    "learning_rate = [0.01,.05,0.1,.5,1]\n",
    "\n",
    "#gamma\n",
    "gamma = [0.0,0.1,0.2,0.3,0.4,0.5]\n",
    "\n",
    "#colsample\n",
    "colsample_bytree = [.3,.4,.5,.6,.7]\n",
    "\n",
    "\n",
    "grid_param = {'n_estimators': n_estimators,\n",
    "             'max_depth': max_depth,\n",
    "             'min_child_weight': min_child_weight,\n",
    "             'learning_rate': learning_rate,\n",
    "             'gamma': gamma,\n",
    "             'colsample_bytree': colsample_bytree}"
   ]
  },
  {
   "cell_type": "code",
   "execution_count": 63,
   "metadata": {},
   "outputs": [],
   "source": [
    "xgb = XGBRegressor()\n",
    "xgb_random = RandomizedSearchCV(estimator=xgb,\n",
    "                              param_distributions= grid_param, n_iter = 500,\n",
    "                              cv = 5, verbose = 2, n_jobs=-1)"
   ]
  },
  {
   "cell_type": "code",
   "execution_count": 64,
   "metadata": {},
   "outputs": [],
   "source": [
    "#xgb_random.fit(X,y)\n",
    "#print(xgb_random.best_params_)"
   ]
  },
  {
   "cell_type": "code",
   "execution_count": 65,
   "metadata": {},
   "outputs": [],
   "source": [
    "#best params 1: {'n_estimators': 200, 'min_child_weight': 3, 'max_depth': 4, 'learning_rate': 0.1, 'gamma': 0.2, 'colsample_bytree': 0.3}\n",
    "#best params 2: {'n_estimators': 300, 'min_child_weight': 3, 'max_depth': 4, 'learning_rate': 0.05, 'gamma': 0.0, 'colsample_bytree': 0.3}"
   ]
  },
  {
   "cell_type": "code",
   "execution_count": null,
   "metadata": {
    "collapsed": true,
    "jupyter": {
     "outputs_hidden": true
    }
   },
   "outputs": [],
   "source": []
  },
  {
   "cell_type": "code",
   "execution_count": 66,
   "metadata": {},
   "outputs": [],
   "source": [
    "#RF shap\n",
    "rf = RandomForestRegressor(n_estimators= 200, min_samples_split= 2, min_samples_leaf= 1, \n",
    "                           max_features= 'auto', max_depth= 40)"
   ]
  },
  {
   "cell_type": "code",
   "execution_count": 67,
   "metadata": {},
   "outputs": [
    {
     "data": {
      "text/plain": [
       "RandomForestRegressor(max_depth=40, n_estimators=200)"
      ]
     },
     "execution_count": 67,
     "metadata": {},
     "output_type": "execute_result"
    }
   ],
   "source": [
    "rf.fit(X_train,y_train)"
   ]
  },
  {
   "cell_type": "code",
   "execution_count": 68,
   "metadata": {},
   "outputs": [
    {
     "name": "stdout",
     "output_type": "stream",
     "text": [
      "0.8822793627937797\n"
     ]
    }
   ],
   "source": [
    "score = rf.score(X_test,y_test)\n",
    "print(score)"
   ]
  },
  {
   "cell_type": "code",
   "execution_count": 69,
   "metadata": {},
   "outputs": [],
   "source": [
    "explainer = shap.TreeExplainer(rf)\n",
    "shap_values = explainer.shap_values(X)"
   ]
  },
  {
   "cell_type": "code",
   "execution_count": 70,
   "metadata": {},
   "outputs": [],
   "source": [
    "#df.corr()['SalePrice'].sort_values(ascending=False)"
   ]
  },
  {
   "cell_type": "code",
   "execution_count": 71,
   "metadata": {},
   "outputs": [
    {
     "data": {
      "image/png": "[encoded data removed]",
      "text/plain": [
       "<Figure size 540x360 with 2 Axes>"
      ]
     },
     "metadata": {
      "needs_background": "light"
     },
     "output_type": "display_data"
    }
   ],
   "source": [
    "shap.dependence_plot(ind='OverallQual', shap_values=shap_values, features=X,interaction_index='BsmtFinSF1')"
   ]
  },
  {
   "cell_type": "code",
   "execution_count": 72,
   "metadata": {},
   "outputs": [],
   "source": [
    "#Top 20 features by impact on model output are listed below\n",
    "#shap.summary_plot(shap_values, X,max_display=40)"
   ]
  },
  {
   "cell_type": "code",
   "execution_count": 73,
   "metadata": {},
   "outputs": [],
   "source": [
    "shap_vals_rf = pd.DataFrame(data = np.abs(shap_values), columns=X.columns)"
   ]
  },
  {
   "cell_type": "code",
   "execution_count": 74,
   "metadata": {},
   "outputs": [],
   "source": [
    "shap_scores_rf = np.mean(shap_vals_rf).sort_values(ascending=False)"
   ]
  },
  {
   "cell_type": "code",
   "execution_count": 75,
   "metadata": {},
   "outputs": [],
   "source": [
    "#train model on features up to the GarageQual_Gd label\n",
    "rf_labels = shap_scores_rf[shap_scores_rf.values > 20]"
   ]
  },
  {
   "cell_type": "code",
   "execution_count": 76,
   "metadata": {},
   "outputs": [
    {
     "data": {
      "text/plain": [
       "Index(['OverallQual', 'GrLivArea', 'BsmtFinSF1', 'TotalBsmtSF', '1stFlrSF',\n",
       "       'YearBuilt', 'GarageCars', 'LotArea', 'GarageArea', 'YearRemodAdd',\n",
       "       '2ndFlrSF', 'Fireplaces', 'GarageFinish_Unf', 'OverallCond',\n",
       "       'GarageYrBlt', 'OpenPorchSF', 'GarageType_Detchd', 'WoodDeckSF',\n",
       "       'MasVnrArea', 'BsmtQual_Gd', 'BsmtUnfSF', 'LotFrontage', 'FullBath',\n",
       "       'ExterQual_TA', 'GarageType_Attchd', 'MSZoning_RM', 'TotRmsAbvGrd',\n",
       "       'MSZoning_RL', 'HalfBath', 'LotShape_Reg', 'CentralAir_Y', 'MoSold',\n",
       "       'KitchenQual_TA', 'BsmtExposure_No', 'BsmtExposure_Gd', 'BsmtFullBath',\n",
       "       'Foundation_PConc', 'KitchenQual_Gd', 'MSSubClass', 'ExterQual_Gd',\n",
       "       'BsmtQual_TA', 'BsmtFinType1_GLQ', 'HeatingQC_TA', 'Functional_Typ',\n",
       "       'ScreenPorch', 'Exterior2nd_VinylSd', 'YrSold', 'SaleCondition_Normal',\n",
       "       'Neighborhood_Crawfor', 'GarageFinish_RFn', 'Neighborhood_Edwards',\n",
       "       'KitchenAbvGr', 'SaleType_WD', 'EnclosedPorch', 'BsmtFinType1_Unf',\n",
       "       'Fence_MnPrv', 'BedroomAbvGr', 'Neighborhood_OldTown',\n",
       "       'MasVnrType_Stone', 'Neighborhood_CollgCr', 'Neighborhood_NridgHt',\n",
       "       'SaleCondition_Family', 'SaleCondition_Partial', 'BsmtFinSF2',\n",
       "       'BsmtCond_TA', 'MasVnrType_BrkFace', 'Neighborhood_StoneBr',\n",
       "       'LotConfig_Inside', 'ExterCond_Fa', 'LandContour_Lvl',\n",
       "       'Exterior1st_VinylSd', 'LotConfig_CulDSac', 'RoofStyle_Gable',\n",
       "       'Condition1_Norm', 'Exterior1st_BrkFace', 'BsmtHalfBath', 'PoolArea',\n",
       "       'Fence_None', 'HeatingQC_Gd', 'BsmtExposure_Mn', 'HouseStyle_2Story',\n",
       "       'Neighborhood_NAmes', 'ExterCond_TA', 'Foundation_CBlock',\n",
       "       'SaleType_New', 'LotShape_IR2', 'HouseStyle_1Story', 'RoofStyle_Hip',\n",
       "       'Exterior1st_Wd Sdng', 'PavedDrive_Y', 'BldgType_Duplex',\n",
       "       'Neighborhood_Sawyer', 'Exterior1st_HdBoard', 'Neighborhood_Somerst',\n",
       "       'MasVnrType_None', 'GarageCond_Fa', 'Neighborhood_IDOTRR'],\n",
       "      dtype='object')"
      ]
     },
     "execution_count": 76,
     "metadata": {},
     "output_type": "execute_result"
    }
   ],
   "source": [
    "rf_labels.index"
   ]
  },
  {
   "cell_type": "code",
   "execution_count": 77,
   "metadata": {},
   "outputs": [],
   "source": [
    "rf_labels = ['OverallQual', 'GrLivArea', 'TotalBsmtSF', 'BsmtFinSF1', '1stFlrSF',\n",
    "       'YearBuilt', 'GarageArea', 'LotArea', 'GarageCars', 'YearRemodAdd',\n",
    "       '2ndFlrSF', 'Fireplaces', 'FullBath', 'OverallCond', 'GarageFinish_Unf',\n",
    "       'OpenPorchSF', 'GarageYrBlt', 'GarageType_Detchd', 'WoodDeckSF',\n",
    "       'TotRmsAbvGrd', 'BsmtQual_Gd', 'MasVnrArea', 'BsmtUnfSF',\n",
    "       'GarageType_Attchd', 'LotFrontage', 'ExterQual_TA', 'CentralAir_Y',\n",
    "       'MoSold', 'MSZoning_RL', 'LotShape_Reg', 'MSSubClass', 'HalfBath',\n",
    "       'MSZoning_RM', 'BsmtFullBath', 'BsmtExposure_Gd', 'BsmtExposure_No',\n",
    "       'Foundation_PConc', 'KitchenQual_Gd', 'KitchenQual_TA',\n",
    "       'Exterior2nd_VinylSd', 'BsmtFinType1_GLQ', 'BsmtQual_TA', 'ScreenPorch',\n",
    "       'YrSold', 'BedroomAbvGr', 'SaleType_WD', 'Neighborhood_OldTown',\n",
    "       'GarageFinish_RFn', 'MasVnrType_Stone', 'EnclosedPorch',\n",
    "       'Neighborhood_Crawfor', 'Functional_Typ', 'KitchenAbvGr',\n",
    "       'ExterQual_Gd', 'HeatingQC_TA', 'SaleCondition_Normal',\n",
    "       'Foundation_CBlock', 'BsmtFinType1_Unf', 'LotConfig_Inside',\n",
    "       'SaleCondition_Family', 'BsmtCond_TA', 'BsmtFinSF2',\n",
    "       'LotConfig_CulDSac', 'Neighborhood_Edwards', 'HouseStyle_1Story',\n",
    "       'ExterCond_Fa', 'BsmtHalfBath', 'HeatingQC_Gd', 'Neighborhood_NridgHt',\n",
    "       'MasVnrType_BrkFace', 'Condition1_Norm', 'RoofStyle_Gable', 'PoolArea',\n",
    "       'Neighborhood_CollgCr', 'Fence_None', 'LotShape_IR2',\n",
    "       'Neighborhood_NAmes', 'LandContour_Lvl', 'Neighborhood_StoneBr',\n",
    "       'Exterior1st_Wd Sdng', 'Exterior1st_BrkFace', 'SaleType_New',\n",
    "       'Neighborhood_Somerst', 'BsmtExposure_Mn', 'HouseStyle_2Story',\n",
    "       'Exterior1st_VinylSd', 'MasVnrType_None', 'RoofStyle_Hip',\n",
    "       'LandSlope_Mod', 'Exterior2nd_HdBoard', 'SaleCondition_Partial',\n",
    "       'Exterior1st_Plywood', 'ExterCond_TA', 'GarageCond_TA',\n",
    "       'Neighborhood_Sawyer', 'Exterior2nd_ImStucc', 'ExterCond_Gd',\n",
    "       'Neighborhood_NWAmes', 'Fence_MnPrv']"
   ]
  },
  {
   "cell_type": "code",
   "execution_count": 78,
   "metadata": {},
   "outputs": [],
   "source": [
    "top_20_rf = ['OverallQual','GrLivArea','TotalBsmtSF','BsmtFinSF1','1stFlrSF','YearBuilt','LotArea','GarageCars','GarageArea',\n",
    "            '2ndFlrSF','YearRemodAdd','Fireplaces','OverallCond','FullBath','GarageFinish_Unf','OpenPorchSF','GarageYrBlt',\n",
    "            'GarageType_Detchd','WoodDeckSF','TotRmsAbvGrd']"
   ]
  },
  {
   "cell_type": "code",
   "execution_count": null,
   "metadata": {
    "collapsed": true,
    "jupyter": {
     "outputs_hidden": true
    }
   },
   "outputs": [],
   "source": []
  },
  {
   "cell_type": "code",
   "execution_count": 79,
   "metadata": {},
   "outputs": [],
   "source": [
    "#gbr shap\n",
    "gbr = GradientBoostingRegressor(n_estimators= 200, min_samples_split= 10, min_samples_leaf = 1, \n",
    "                                max_depth = 2, learning_rate= 0.1)"
   ]
  },
  {
   "cell_type": "code",
   "execution_count": 80,
   "metadata": {},
   "outputs": [
    {
     "data": {
      "text/plain": [
       "GradientBoostingRegressor(max_depth=2, min_samples_split=10, n_estimators=200)"
      ]
     },
     "execution_count": 80,
     "metadata": {},
     "output_type": "execute_result"
    }
   ],
   "source": [
    "gbr.fit(X_train,y_train)"
   ]
  },
  {
   "cell_type": "code",
   "execution_count": 81,
   "metadata": {},
   "outputs": [
    {
     "name": "stdout",
     "output_type": "stream",
     "text": [
      "0.8992339565715631\n"
     ]
    }
   ],
   "source": [
    "score = gbr.score(X_test,y_test)\n",
    "print(score)"
   ]
  },
  {
   "cell_type": "code",
   "execution_count": 82,
   "metadata": {},
   "outputs": [],
   "source": [
    "explainer = shap.TreeExplainer(gbr)\n",
    "shap_values = explainer.shap_values(X)"
   ]
  },
  {
   "cell_type": "code",
   "execution_count": 83,
   "metadata": {},
   "outputs": [
    {
     "data": {
      "image/png": "[encoded data removed]",
      "text/plain": [
       "<Figure size 576x684 with 2 Axes>"
      ]
     },
     "metadata": {
      "needs_background": "light"
     },
     "output_type": "display_data"
    }
   ],
   "source": [
    "shap.summary_plot(shap_values, X)"
   ]
  },
  {
   "cell_type": "markdown",
   "metadata": {},
   "source": [
    "Finding the best predictors for model"
   ]
  },
  {
   "cell_type": "code",
   "execution_count": 84,
   "metadata": {},
   "outputs": [],
   "source": [
    "shap_vals_gb = pd.DataFrame(data = np.abs(shap_values), columns=X.columns)"
   ]
  },
  {
   "cell_type": "code",
   "execution_count": 85,
   "metadata": {},
   "outputs": [],
   "source": [
    "shap_scores_gb = np.mean(shap_vals_gb).sort_values(ascending=False)"
   ]
  },
  {
   "cell_type": "code",
   "execution_count": 86,
   "metadata": {},
   "outputs": [
    {
     "data": {
      "text/plain": [
       "Index(['OverallQual', 'GrLivArea', 'TotalBsmtSF', 'GarageCars', 'YearBuilt',\n",
       "       'BsmtFinSF1', 'YearRemodAdd', 'LotArea', 'OverallCond', 'Fireplaces',\n",
       "       'ExterQual_TA', 'OpenPorchSF', 'GarageFinish_Unf', '2ndFlrSF',\n",
       "       'MSZoning_RL', 'SaleType_New', 'BsmtExposure_Gd', 'HalfBath',\n",
       "       'BsmtUnfSF', 'GarageArea', 'KitchenQual_TA', 'WoodDeckSF', 'MoSold',\n",
       "       'GarageYrBlt', '1stFlrSF', 'ScreenPorch', 'Exterior1st_BrkFace',\n",
       "       'SaleCondition_Normal', 'MasVnrArea', 'Neighborhood_Crawfor',\n",
       "       'MSSubClass', 'BsmtExposure_No', 'Functional_Typ', 'Foundation_PConc',\n",
       "       'SaleCondition_Partial', 'CentralAir_Y', 'MSZoning_RM', 'LotShape_Reg',\n",
       "       'Condition1_Norm', 'Neighborhood_Edwards', 'Neighborhood_Somerst',\n",
       "       'BsmtFinType1_GLQ', 'KitchenAbvGr', 'Neighborhood_StoneBr',\n",
       "       'TotRmsAbvGrd', 'FullBath', 'BsmtFullBath', 'LotFrontage',\n",
       "       'Condition1_RRAe', 'BedroomAbvGr', 'Neighborhood_BrkSide',\n",
       "       'Neighborhood_NridgHt', 'PoolArea', 'Neighborhood_ClearCr',\n",
       "       'EnclosedPorch', 'LotConfig_CulDSac', 'Functional_Mod',\n",
       "       'SaleCondition_Family', 'BsmtFinSF2', 'Condition2_Norm',\n",
       "       'Functional_Sev', 'Condition2_PosN'],\n",
       "      dtype='object')"
      ]
     },
     "execution_count": 86,
     "metadata": {},
     "output_type": "execute_result"
    }
   ],
   "source": [
    "#getting predictors with shap score greater than 20\n",
    "shap_scores_gb[shap_scores_gb.values > 20].index"
   ]
  },
  {
   "cell_type": "code",
   "execution_count": 87,
   "metadata": {},
   "outputs": [],
   "source": [
    "gbr_labels = ['OverallQual', 'GrLivArea', 'TotalBsmtSF', 'GarageCars', 'YearBuilt',\n",
    "       'BsmtFinSF1', 'YearRemodAdd', 'LotArea', 'OverallCond', 'Fireplaces',\n",
    "       'ExterQual_TA', 'OpenPorchSF', 'SaleCondition_Partial',\n",
    "       'GarageFinish_Unf', '2ndFlrSF', 'MSZoning_RL', 'BsmtExposure_Gd',\n",
    "       'HalfBath', 'BsmtUnfSF', 'GarageArea', 'KitchenQual_TA', 'WoodDeckSF',\n",
    "       'MoSold', 'GarageYrBlt', '1stFlrSF', 'ScreenPorch',\n",
    "       'Exterior1st_BrkFace', 'SaleCondition_Normal', 'MasVnrArea',\n",
    "       'Neighborhood_Crawfor', 'MSSubClass', 'BsmtExposure_No',\n",
    "       'Functional_Typ', 'Foundation_PConc', 'CentralAir_Y',\n",
    "       'Neighborhood_Edwards', 'MSZoning_RM', 'LotShape_Reg',\n",
    "       'Condition1_Norm', 'Neighborhood_Somerst', 'BsmtFinType1_GLQ',\n",
    "       'KitchenAbvGr', 'Neighborhood_StoneBr', 'TotRmsAbvGrd', 'FullBath',\n",
    "       'BsmtFullBath', 'SaleType_New', 'LotFrontage', 'Condition1_RRAe',\n",
    "       'BedroomAbvGr', 'PoolArea', 'Neighborhood_BrkSide',\n",
    "       'Neighborhood_NridgHt', 'Neighborhood_ClearCr', 'EnclosedPorch',\n",
    "       'LotConfig_CulDSac', 'Functional_Mod', 'SaleCondition_Family',\n",
    "       'BsmtFinSF2', 'Condition2_Norm', 'Functional_Sev', 'Condition2_PosN']"
   ]
  },
  {
   "cell_type": "code",
   "execution_count": null,
   "metadata": {
    "collapsed": true,
    "jupyter": {
     "outputs_hidden": true
    }
   },
   "outputs": [],
   "source": []
  },
  {
   "cell_type": "code",
   "execution_count": 88,
   "metadata": {},
   "outputs": [],
   "source": [
    "#xgb shap\n",
    "xgb = XGBRegressor(n_estimators = 200, min_child_weight = 3, max_depth = 4, learning_rate = 0.1, \n",
    "                   gamma = 0.2, colsample_bytree = 0.3)"
   ]
  },
  {
   "cell_type": "code",
   "execution_count": 89,
   "metadata": {},
   "outputs": [
    {
     "data": {
      "text/plain": [
       "XGBRegressor(base_score=0.5, booster='gbtree', colsample_bylevel=1,\n",
       "             colsample_bynode=1, colsample_bytree=0.3, gamma=0.2, gpu_id=-1,\n",
       "             importance_type='gain', interaction_constraints='',\n",
       "             learning_rate=0.1, max_delta_step=0, max_depth=4,\n",
       "             min_child_weight=3, missing=nan, monotone_constraints='()',\n",
       "             n_estimators=200, n_jobs=12, num_parallel_tree=1, random_state=0,\n",
       "             reg_alpha=0, reg_lambda=1, scale_pos_weight=1, subsample=1,\n",
       "             tree_method='exact', validate_parameters=1, verbosity=None)"
      ]
     },
     "execution_count": 89,
     "metadata": {},
     "output_type": "execute_result"
    }
   ],
   "source": [
    "xgb.fit(X_train,y_train)"
   ]
  },
  {
   "cell_type": "code",
   "execution_count": 90,
   "metadata": {},
   "outputs": [],
   "source": [
    "score = xgb.score(X_test,y_test)"
   ]
  },
  {
   "cell_type": "code",
   "execution_count": 91,
   "metadata": {},
   "outputs": [],
   "source": [
    "explainer = shap.TreeExplainer(xgb)\n",
    "shap_values = explainer.shap_values(X)"
   ]
  },
  {
   "cell_type": "code",
   "execution_count": 92,
   "metadata": {},
   "outputs": [
    {
     "data": {
      "image/png": "[encoded data removed]",
      "text/plain": [
       "<Figure size 576x684 with 2 Axes>"
      ]
     },
     "metadata": {
      "needs_background": "light"
     },
     "output_type": "display_data"
    }
   ],
   "source": [
    "shap.summary_plot(shap_values, X, max_display=20)"
   ]
  },
  {
   "cell_type": "code",
   "execution_count": 93,
   "metadata": {},
   "outputs": [
    {
     "name": "stdout",
     "output_type": "stream",
     "text": [
      "0.9030219168696704\n"
     ]
    }
   ],
   "source": [
    "print(score)"
   ]
  },
  {
   "cell_type": "code",
   "execution_count": 94,
   "metadata": {},
   "outputs": [],
   "source": [
    "#shap.dependence_plot(ind='GarageCars', shap_values=shap_values, features=X,interaction_index='GarageArea')"
   ]
  },
  {
   "cell_type": "code",
   "execution_count": 95,
   "metadata": {},
   "outputs": [],
   "source": [
    "shap_vals_xgb = pd.DataFrame(data = np.abs(shap_values), columns=X.columns)"
   ]
  },
  {
   "cell_type": "code",
   "execution_count": 96,
   "metadata": {},
   "outputs": [],
   "source": [
    "shap_scores_xgb = np.mean(shap_vals_xgb).sort_values(ascending=False)"
   ]
  },
  {
   "cell_type": "code",
   "execution_count": 97,
   "metadata": {},
   "outputs": [],
   "source": [
    "shap_scores_xgb = shap_scores_xgb[shap_scores_xgb.values > 60]"
   ]
  },
  {
   "cell_type": "code",
   "execution_count": 98,
   "metadata": {},
   "outputs": [
    {
     "data": {
      "text/plain": [
       "array(['OverallQual', 'GrLivArea', 'TotalBsmtSF', 'YearBuilt', '1stFlrSF',\n",
       "       'ExterQual_TA', 'BsmtFinSF1', 'GarageCars', 'LotArea',\n",
       "       'YearRemodAdd', 'OverallCond', 'Fireplaces', '2ndFlrSF',\n",
       "       'FullBath', 'HalfBath', 'GarageArea', 'KitchenQual_TA',\n",
       "       'GarageFinish_Unf', 'WoodDeckSF', 'GarageYrBlt', 'OpenPorchSF',\n",
       "       'KitchenQual_Gd', 'MoSold', 'BsmtExposure_No', 'BsmtExposure_Gd',\n",
       "       'SaleCondition_Normal', 'BsmtFullBath', 'TotRmsAbvGrd',\n",
       "       'Foundation_CBlock', 'Functional_Typ', 'MSSubClass', 'ScreenPorch',\n",
       "       'YrSold', 'Neighborhood_Crawfor', 'LotShape_Reg',\n",
       "       'BsmtFinType1_GLQ', 'BsmtUnfSF', 'MSZoning_RL', 'MasVnrArea',\n",
       "       'HouseStyle_2Story', 'SaleType_New', 'Condition1_Norm',\n",
       "       'BsmtQual_Gd', 'Exterior1st_BrkFace', 'KitchenAbvGr',\n",
       "       'Neighborhood_Somerst', 'LotFrontage', 'MSZoning_RM',\n",
       "       'CentralAir_Y', 'GarageType_Attchd', 'Neighborhood_OldTown',\n",
       "       'LotConfig_CulDSac', 'LotConfig_Inside', 'Neighborhood_Edwards',\n",
       "       'BsmtHalfBath', 'Neighborhood_NridgHt', 'Neighborhood_BrkSide',\n",
       "       'Foundation_PConc', 'BsmtFinType1_Unf', 'BedroomAbvGr',\n",
       "       'LotConfig_FR2', 'BsmtFinSF2', 'PavedDrive_Y', 'LandContour_Lvl',\n",
       "       'SaleCondition_Partial', 'Neighborhood_StoneBr', 'EnclosedPorch',\n",
       "       'HouseStyle_1Story', 'GarageType_Detchd', 'ExterCond_TA',\n",
       "       'Condition1_RRAe', 'HeatingQC_Gd', 'PoolArea', 'ExterQual_Gd',\n",
       "       'Neighborhood_ClearCr', 'Exterior2nd_HdBoard',\n",
       "       'Exterior1st_HdBoard', 'GarageQual_Gd', 'SaleType_WD',\n",
       "       'GarageType_CarPort', 'Exterior1st_MetalSd', 'Neighborhood_NWAmes',\n",
       "       'Exterior1st_VinylSd'], dtype=object)"
      ]
     },
     "execution_count": 98,
     "metadata": {},
     "output_type": "execute_result"
    }
   ],
   "source": [
    "#getting predictors with shap score greater than 20\n",
    "shap_scores_xgb.index.values"
   ]
  },
  {
   "cell_type": "code",
   "execution_count": 99,
   "metadata": {},
   "outputs": [],
   "source": [
    "xgb_labels = ['OverallQual', 'GrLivArea', 'TotalBsmtSF', 'YearBuilt', '1stFlrSF',\n",
    "       'ExterQual_TA', 'BsmtFinSF1', 'GarageCars', 'LotArea',\n",
    "       'YearRemodAdd', 'OverallCond', 'Fireplaces', '2ndFlrSF',\n",
    "       'FullBath', 'HalfBath', 'GarageArea', 'KitchenQual_TA',\n",
    "       'GarageFinish_Unf', 'WoodDeckSF', 'GarageYrBlt', 'OpenPorchSF',\n",
    "       'KitchenQual_Gd', 'MoSold', 'BsmtExposure_No', 'BsmtExposure_Gd',\n",
    "       'SaleCondition_Normal', 'BsmtFullBath', 'TotRmsAbvGrd',\n",
    "       'Foundation_CBlock', 'Functional_Typ', 'MSSubClass', 'ScreenPorch',\n",
    "       'YrSold', 'Neighborhood_Crawfor', 'LotShape_Reg',\n",
    "       'BsmtFinType1_GLQ', 'BsmtUnfSF', 'MSZoning_RL', 'MasVnrArea',\n",
    "       'HouseStyle_2Story', 'SaleType_New', 'Condition1_Norm',\n",
    "       'BsmtQual_Gd', 'Exterior1st_BrkFace', 'KitchenAbvGr',\n",
    "       'Neighborhood_Somerst', 'LotFrontage', 'MSZoning_RM',\n",
    "       'CentralAir_Y', 'GarageType_Attchd', 'Neighborhood_OldTown',\n",
    "       'LotConfig_CulDSac', 'LotConfig_Inside', 'Neighborhood_Edwards',\n",
    "       'BsmtHalfBath', 'Neighborhood_NridgHt', 'Neighborhood_BrkSide',\n",
    "       'Foundation_PConc', 'BsmtFinType1_Unf', 'BedroomAbvGr',\n",
    "       'LotConfig_FR2', 'BsmtFinSF2', 'PavedDrive_Y', 'LandContour_Lvl',\n",
    "       'SaleCondition_Partial', 'Neighborhood_StoneBr', 'EnclosedPorch',\n",
    "       'HouseStyle_1Story', 'GarageType_Detchd', 'ExterCond_TA',\n",
    "       'Condition1_RRAe', 'HeatingQC_Gd', 'PoolArea', 'ExterQual_Gd',\n",
    "       'Neighborhood_ClearCr', 'Exterior2nd_HdBoard',\n",
    "       'Exterior1st_HdBoard', 'GarageQual_Gd', 'SaleType_WD',\n",
    "       'GarageType_CarPort', 'Exterior1st_MetalSd', 'Neighborhood_NWAmes',\n",
    "       'Exterior1st_VinylSd']"
   ]
  },
  {
   "cell_type": "code",
   "execution_count": null,
   "metadata": {
    "collapsed": true,
    "jupyter": {
     "outputs_hidden": true
    }
   },
   "outputs": [],
   "source": []
  },
  {
   "cell_type": "markdown",
   "metadata": {},
   "source": [
    "# Training Model on top 20 RF predictors"
   ]
  },
  {
   "cell_type": "code",
   "execution_count": 100,
   "metadata": {},
   "outputs": [
    {
     "name": "stdout",
     "output_type": "stream",
     "text": [
      "17971.752551020407\n"
     ]
    }
   ],
   "source": [
    "#top 20 predictor labels\n",
    "X_rf = X[top_20_rf]\n",
    "X_train, X_test, y_train, y_test = train_test_split(X_rf, y, test_size=0.25, random_state=42)\n",
    "rf.fit(X_train,y_train)\n",
    "predictions=rf.predict(X_test)\n",
    "print(metrics.mean_absolute_error(predictions,y_test))"
   ]
  },
  {
   "cell_type": "code",
   "execution_count": 101,
   "metadata": {},
   "outputs": [],
   "source": [
    "#top 20 predictor labels\n",
    "X_rf = X[top_20_rf]"
   ]
  },
  {
   "cell_type": "code",
   "execution_count": 102,
   "metadata": {},
   "outputs": [
    {
     "data": {
      "text/plain": [
       "Id                  0\n",
       "MSSubClass          0\n",
       "MSZoning            4\n",
       "LotFrontage       227\n",
       "LotArea             0\n",
       "Street              0\n",
       "Alley            1352\n",
       "LotShape            0\n",
       "LandContour         0\n",
       "Utilities           2\n",
       "LotConfig           0\n",
       "LandSlope           0\n",
       "Neighborhood        0\n",
       "Condition1          0\n",
       "Condition2          0\n",
       "BldgType            0\n",
       "HouseStyle          0\n",
       "OverallQual         0\n",
       "OverallCond         0\n",
       "YearBuilt           0\n",
       "YearRemodAdd        0\n",
       "RoofStyle           0\n",
       "RoofMatl            0\n",
       "Exterior1st         1\n",
       "Exterior2nd         1\n",
       "MasVnrType         16\n",
       "MasVnrArea         15\n",
       "ExterQual           0\n",
       "ExterCond           0\n",
       "Foundation          0\n",
       "BsmtQual           44\n",
       "BsmtCond           45\n",
       "BsmtExposure       44\n",
       "BsmtFinType1       42\n",
       "BsmtFinSF1          1\n",
       "BsmtFinType2       42\n",
       "BsmtFinSF2          1\n",
       "BsmtUnfSF           1\n",
       "TotalBsmtSF         1\n",
       "Heating             0\n",
       "HeatingQC           0\n",
       "CentralAir          0\n",
       "Electrical          0\n",
       "1stFlrSF            0\n",
       "2ndFlrSF            0\n",
       "LowQualFinSF        0\n",
       "GrLivArea           0\n",
       "BsmtFullBath        2\n",
       "BsmtHalfBath        2\n",
       "FullBath            0\n",
       "HalfBath            0\n",
       "BedroomAbvGr        0\n",
       "KitchenAbvGr        0\n",
       "KitchenQual         1\n",
       "TotRmsAbvGrd        0\n",
       "Functional          2\n",
       "Fireplaces          0\n",
       "FireplaceQu       730\n",
       "GarageType         76\n",
       "GarageYrBlt        78\n",
       "GarageFinish       78\n",
       "GarageCars          1\n",
       "GarageArea          1\n",
       "GarageQual         78\n",
       "GarageCond         78\n",
       "PavedDrive          0\n",
       "WoodDeckSF          0\n",
       "OpenPorchSF         0\n",
       "EnclosedPorch       0\n",
       "3SsnPorch           0\n",
       "ScreenPorch         0\n",
       "PoolArea            0\n",
       "PoolQC           1456\n",
       "Fence            1169\n",
       "MiscFeature      1408\n",
       "MiscVal             0\n",
       "MoSold              0\n",
       "YrSold              0\n",
       "SaleType            1\n",
       "SaleCondition       0\n",
       "dtype: int64"
      ]
     },
     "execution_count": 102,
     "metadata": {},
     "output_type": "execute_result"
    }
   ],
   "source": [
    "df_test.isna().sum()"
   ]
  },
  {
   "cell_type": "markdown",
   "metadata": {},
   "source": [
    "# Preprocessing of test dataset"
   ]
  },
  {
   "cell_type": "code",
   "execution_count": 103,
   "metadata": {},
   "outputs": [],
   "source": [
    "#preprocessing\n",
    "\n",
    "df_test['Alley'] = df_test['Alley'].fillna(value='None')\n",
    "df_test.drop(columns='PoolQC', axis=1, inplace=True)\n",
    "df_test['Fence'] = df_test['Fence'].fillna(value='None')\n",
    "df_test.drop(columns='MiscFeature',axis=1,inplace=True)\n",
    "df_test.drop(columns='FireplaceQu',axis=1,inplace=True)\n",
    "df_test.drop(labels='Id',axis=1,inplace=True)"
   ]
  },
  {
   "cell_type": "code",
   "execution_count": 104,
   "metadata": {},
   "outputs": [
    {
     "data": {
      "text/plain": [
       "(1459, 76)"
      ]
     },
     "execution_count": 104,
     "metadata": {},
     "output_type": "execute_result"
    }
   ],
   "source": [
    "df_test.shape"
   ]
  },
  {
   "cell_type": "code",
   "execution_count": 105,
   "metadata": {},
   "outputs": [
    {
     "data": {
      "text/plain": [
       "Index(['MSZoning', 'Street', 'Alley', 'LotShape', 'LandContour', 'Utilities',\n",
       "       'LotConfig', 'LandSlope', 'Neighborhood', 'Condition1', 'Condition2',\n",
       "       'BldgType', 'HouseStyle', 'RoofStyle', 'RoofMatl', 'Exterior1st',\n",
       "       'Exterior2nd', 'MasVnrType', 'ExterQual', 'ExterCond', 'Foundation',\n",
       "       'BsmtQual', 'BsmtCond', 'BsmtExposure', 'BsmtFinType1', 'BsmtFinType2',\n",
       "       'Heating', 'HeatingQC', 'CentralAir', 'Electrical', 'KitchenQual',\n",
       "       'Functional', 'GarageType', 'GarageFinish', 'GarageQual', 'GarageCond',\n",
       "       'PavedDrive', 'Fence', 'SaleType', 'SaleCondition'],\n",
       "      dtype='object')"
      ]
     },
     "execution_count": 105,
     "metadata": {},
     "output_type": "execute_result"
    }
   ],
   "source": [
    "df_test.select_dtypes(include='object').columns"
   ]
  },
  {
   "cell_type": "code",
   "execution_count": 106,
   "metadata": {},
   "outputs": [],
   "source": [
    "#First get dummies from text columns\n",
    "df_test = pd.get_dummies(data=df_test,columns=['MSZoning', 'Street', 'Alley', 'LotShape', 'LandContour', 'Utilities',\n",
    "       'LotConfig', 'LandSlope', 'Neighborhood', 'Condition1', 'Condition2',\n",
    "       'BldgType', 'HouseStyle', 'RoofStyle', 'RoofMatl', 'Exterior1st',\n",
    "       'Exterior2nd', 'MasVnrType', 'ExterQual', 'ExterCond', 'Foundation',\n",
    "       'BsmtQual', 'BsmtCond', 'BsmtExposure', 'BsmtFinType1', 'BsmtFinType2',\n",
    "       'Heating', 'HeatingQC', 'CentralAir', 'Electrical', 'KitchenQual',\n",
    "       'Functional', 'GarageType', 'GarageFinish', 'GarageQual', 'GarageCond',\n",
    "       'PavedDrive', 'Fence', 'SaleType', 'SaleCondition'], drop_first=True)"
   ]
  },
  {
   "cell_type": "code",
   "execution_count": 107,
   "metadata": {},
   "outputs": [
    {
     "data": {
      "text/plain": [
       "(1459, 222)"
      ]
     },
     "execution_count": 107,
     "metadata": {},
     "output_type": "execute_result"
    }
   ],
   "source": [
    "df_test.shape"
   ]
  },
  {
   "cell_type": "code",
   "execution_count": 108,
   "metadata": {},
   "outputs": [],
   "source": [
    "df_test_X = df_test[top_20_rf]"
   ]
  },
  {
   "cell_type": "code",
   "execution_count": 109,
   "metadata": {},
   "outputs": [
    {
     "data": {
      "text/plain": [
       "OverallQual           0\n",
       "GrLivArea             0\n",
       "TotalBsmtSF           1\n",
       "BsmtFinSF1            1\n",
       "1stFlrSF              0\n",
       "YearBuilt             0\n",
       "LotArea               0\n",
       "GarageCars            1\n",
       "GarageArea            1\n",
       "2ndFlrSF              0\n",
       "YearRemodAdd          0\n",
       "Fireplaces            0\n",
       "OverallCond           0\n",
       "FullBath              0\n",
       "GarageFinish_Unf      0\n",
       "OpenPorchSF           0\n",
       "GarageYrBlt          78\n",
       "GarageType_Detchd     0\n",
       "WoodDeckSF            0\n",
       "TotRmsAbvGrd          0\n",
       "dtype: int64"
      ]
     },
     "execution_count": 109,
     "metadata": {},
     "output_type": "execute_result"
    }
   ],
   "source": [
    "df_test_X.isna().sum()"
   ]
  },
  {
   "cell_type": "code",
   "execution_count": 110,
   "metadata": {},
   "outputs": [
    {
     "data": {
      "text/html": [
       "<div>\n",
       "<style scoped>\n",
       "    .dataframe tbody tr th:only-of-type {\n",
       "        vertical-align: middle;\n",
       "    }\n",
       "\n",
       "    .dataframe tbody tr th {\n",
       "        vertical-align: top;\n",
       "    }\n",
       "\n",
       "    .dataframe thead th {\n",
       "        text-align: right;\n",
       "    }\n",
       "</style>\n",
       "<table border=\"1\" class=\"dataframe\">\n",
       "  <thead>\n",
       "    <tr style=\"text-align: right;\">\n",
       "      <th></th>\n",
       "      <th>OverallQual</th>\n",
       "      <th>GrLivArea</th>\n",
       "      <th>TotalBsmtSF</th>\n",
       "      <th>BsmtFinSF1</th>\n",
       "      <th>1stFlrSF</th>\n",
       "      <th>YearBuilt</th>\n",
       "      <th>LotArea</th>\n",
       "      <th>GarageCars</th>\n",
       "      <th>GarageArea</th>\n",
       "      <th>2ndFlrSF</th>\n",
       "      <th>YearRemodAdd</th>\n",
       "      <th>Fireplaces</th>\n",
       "      <th>OverallCond</th>\n",
       "      <th>FullBath</th>\n",
       "      <th>GarageFinish_Unf</th>\n",
       "      <th>OpenPorchSF</th>\n",
       "      <th>GarageYrBlt</th>\n",
       "      <th>GarageType_Detchd</th>\n",
       "      <th>WoodDeckSF</th>\n",
       "      <th>TotRmsAbvGrd</th>\n",
       "    </tr>\n",
       "  </thead>\n",
       "  <tbody>\n",
       "    <tr>\n",
       "      <th>660</th>\n",
       "      <td>4</td>\n",
       "      <td>896</td>\n",
       "      <td>NaN</td>\n",
       "      <td>NaN</td>\n",
       "      <td>896</td>\n",
       "      <td>1946</td>\n",
       "      <td>5940</td>\n",
       "      <td>1.0</td>\n",
       "      <td>280.0</td>\n",
       "      <td>0</td>\n",
       "      <td>1950</td>\n",
       "      <td>0</td>\n",
       "      <td>7</td>\n",
       "      <td>1</td>\n",
       "      <td>1</td>\n",
       "      <td>0</td>\n",
       "      <td>1946.0</td>\n",
       "      <td>1</td>\n",
       "      <td>0</td>\n",
       "      <td>4</td>\n",
       "    </tr>\n",
       "  </tbody>\n",
       "</table>\n",
       "</div>"
      ],
      "text/plain": [
       "     OverallQual  GrLivArea  TotalBsmtSF  BsmtFinSF1  1stFlrSF  YearBuilt  \\\n",
       "660            4        896          NaN         NaN       896       1946   \n",
       "\n",
       "     LotArea  GarageCars  GarageArea  2ndFlrSF  YearRemodAdd  Fireplaces  \\\n",
       "660     5940         1.0       280.0         0          1950           0   \n",
       "\n",
       "     OverallCond  FullBath  GarageFinish_Unf  OpenPorchSF  GarageYrBlt  \\\n",
       "660            7         1                 1            0       1946.0   \n",
       "\n",
       "     GarageType_Detchd  WoodDeckSF  TotRmsAbvGrd  \n",
       "660                  1           0             4  "
      ]
     },
     "execution_count": 110,
     "metadata": {},
     "output_type": "execute_result"
    }
   ],
   "source": [
    "#no basement\n",
    "df_test_X[df_test['TotalBsmtSF'].isna()]"
   ]
  },
  {
   "cell_type": "code",
   "execution_count": 111,
   "metadata": {},
   "outputs": [
    {
     "data": {
      "text/html": [
       "<div>\n",
       "<style scoped>\n",
       "    .dataframe tbody tr th:only-of-type {\n",
       "        vertical-align: middle;\n",
       "    }\n",
       "\n",
       "    .dataframe tbody tr th {\n",
       "        vertical-align: top;\n",
       "    }\n",
       "\n",
       "    .dataframe thead th {\n",
       "        text-align: right;\n",
       "    }\n",
       "</style>\n",
       "<table border=\"1\" class=\"dataframe\">\n",
       "  <thead>\n",
       "    <tr style=\"text-align: right;\">\n",
       "      <th></th>\n",
       "      <th>OverallQual</th>\n",
       "      <th>GrLivArea</th>\n",
       "      <th>TotalBsmtSF</th>\n",
       "      <th>BsmtFinSF1</th>\n",
       "      <th>1stFlrSF</th>\n",
       "      <th>YearBuilt</th>\n",
       "      <th>LotArea</th>\n",
       "      <th>GarageCars</th>\n",
       "      <th>GarageArea</th>\n",
       "      <th>2ndFlrSF</th>\n",
       "      <th>YearRemodAdd</th>\n",
       "      <th>Fireplaces</th>\n",
       "      <th>OverallCond</th>\n",
       "      <th>FullBath</th>\n",
       "      <th>GarageFinish_Unf</th>\n",
       "      <th>OpenPorchSF</th>\n",
       "      <th>GarageYrBlt</th>\n",
       "      <th>GarageType_Detchd</th>\n",
       "      <th>WoodDeckSF</th>\n",
       "      <th>TotRmsAbvGrd</th>\n",
       "    </tr>\n",
       "  </thead>\n",
       "  <tbody>\n",
       "    <tr>\n",
       "      <th>1116</th>\n",
       "      <td>5</td>\n",
       "      <td>1828</td>\n",
       "      <td>859.0</td>\n",
       "      <td>548.0</td>\n",
       "      <td>942</td>\n",
       "      <td>1923</td>\n",
       "      <td>9060</td>\n",
       "      <td>NaN</td>\n",
       "      <td>NaN</td>\n",
       "      <td>886</td>\n",
       "      <td>1999</td>\n",
       "      <td>0</td>\n",
       "      <td>6</td>\n",
       "      <td>2</td>\n",
       "      <td>0</td>\n",
       "      <td>0</td>\n",
       "      <td>NaN</td>\n",
       "      <td>1</td>\n",
       "      <td>174</td>\n",
       "      <td>6</td>\n",
       "    </tr>\n",
       "  </tbody>\n",
       "</table>\n",
       "</div>"
      ],
      "text/plain": [
       "      OverallQual  GrLivArea  TotalBsmtSF  BsmtFinSF1  1stFlrSF  YearBuilt  \\\n",
       "1116            5       1828        859.0       548.0       942       1923   \n",
       "\n",
       "      LotArea  GarageCars  GarageArea  2ndFlrSF  YearRemodAdd  Fireplaces  \\\n",
       "1116     9060         NaN         NaN       886          1999           0   \n",
       "\n",
       "      OverallCond  FullBath  GarageFinish_Unf  OpenPorchSF  GarageYrBlt  \\\n",
       "1116            6         2                 0            0          NaN   \n",
       "\n",
       "      GarageType_Detchd  WoodDeckSF  TotRmsAbvGrd  \n",
       "1116                  1         174             6  "
      ]
     },
     "execution_count": 111,
     "metadata": {},
     "output_type": "execute_result"
    }
   ],
   "source": [
    "#no garage\n",
    "df_test_X[df_test['GarageCars'].isna()]"
   ]
  },
  {
   "cell_type": "code",
   "execution_count": 112,
   "metadata": {},
   "outputs": [
    {
     "data": {
      "text/plain": [
       "0.0      76\n",
       "360.0     1\n",
       "Name: GarageArea, dtype: int64"
      ]
     },
     "execution_count": 112,
     "metadata": {},
     "output_type": "execute_result"
    }
   ],
   "source": [
    "#no garage, except for 1 \n",
    "df_test_X[df_test['GarageYrBlt'].isna()]['GarageArea'].value_counts()"
   ]
  },
  {
   "cell_type": "code",
   "execution_count": 113,
   "metadata": {},
   "outputs": [
    {
     "data": {
      "text/html": [
       "<div>\n",
       "<style scoped>\n",
       "    .dataframe tbody tr th:only-of-type {\n",
       "        vertical-align: middle;\n",
       "    }\n",
       "\n",
       "    .dataframe tbody tr th {\n",
       "        vertical-align: top;\n",
       "    }\n",
       "\n",
       "    .dataframe thead th {\n",
       "        text-align: right;\n",
       "    }\n",
       "</style>\n",
       "<table border=\"1\" class=\"dataframe\">\n",
       "  <thead>\n",
       "    <tr style=\"text-align: right;\">\n",
       "      <th></th>\n",
       "      <th>OverallQual</th>\n",
       "      <th>GrLivArea</th>\n",
       "      <th>TotalBsmtSF</th>\n",
       "      <th>BsmtFinSF1</th>\n",
       "      <th>1stFlrSF</th>\n",
       "      <th>YearBuilt</th>\n",
       "      <th>LotArea</th>\n",
       "      <th>GarageCars</th>\n",
       "      <th>GarageArea</th>\n",
       "      <th>2ndFlrSF</th>\n",
       "      <th>YearRemodAdd</th>\n",
       "      <th>Fireplaces</th>\n",
       "      <th>OverallCond</th>\n",
       "      <th>FullBath</th>\n",
       "      <th>GarageFinish_Unf</th>\n",
       "      <th>OpenPorchSF</th>\n",
       "      <th>GarageYrBlt</th>\n",
       "      <th>GarageType_Detchd</th>\n",
       "      <th>WoodDeckSF</th>\n",
       "      <th>TotRmsAbvGrd</th>\n",
       "    </tr>\n",
       "  </thead>\n",
       "  <tbody>\n",
       "    <tr>\n",
       "      <th>666</th>\n",
       "      <td>6</td>\n",
       "      <td>1984</td>\n",
       "      <td>1242.0</td>\n",
       "      <td>196.0</td>\n",
       "      <td>1242</td>\n",
       "      <td>1910</td>\n",
       "      <td>8094</td>\n",
       "      <td>1.0</td>\n",
       "      <td>360.0</td>\n",
       "      <td>742</td>\n",
       "      <td>1983</td>\n",
       "      <td>0</td>\n",
       "      <td>8</td>\n",
       "      <td>2</td>\n",
       "      <td>0</td>\n",
       "      <td>0</td>\n",
       "      <td>NaN</td>\n",
       "      <td>1</td>\n",
       "      <td>64</td>\n",
       "      <td>8</td>\n",
       "    </tr>\n",
       "  </tbody>\n",
       "</table>\n",
       "</div>"
      ],
      "text/plain": [
       "     OverallQual  GrLivArea  TotalBsmtSF  BsmtFinSF1  1stFlrSF  YearBuilt  \\\n",
       "666            6       1984       1242.0       196.0      1242       1910   \n",
       "\n",
       "     LotArea  GarageCars  GarageArea  2ndFlrSF  YearRemodAdd  Fireplaces  \\\n",
       "666     8094         1.0       360.0       742          1983           0   \n",
       "\n",
       "     OverallCond  FullBath  GarageFinish_Unf  OpenPorchSF  GarageYrBlt  \\\n",
       "666            8         2                 0            0          NaN   \n",
       "\n",
       "     GarageType_Detchd  WoodDeckSF  TotRmsAbvGrd  \n",
       "666                  1          64             8  "
      ]
     },
     "execution_count": 113,
     "metadata": {},
     "output_type": "execute_result"
    }
   ],
   "source": [
    "df_test_X[(df_test['GarageYrBlt'].isna()) & (df_test['GarageArea'] == 360.0)]"
   ]
  },
  {
   "cell_type": "code",
   "execution_count": 114,
   "metadata": {},
   "outputs": [
    {
     "name": "stderr",
     "output_type": "stream",
     "text": [
      "\n",
      "A value is trying to be set on a copy of a slice from a DataFrame.\n",
      "Try using .loc[row_indexer,col_indexer] = value instead\n",
      "\n",
      "See the caveats in the documentation: https://pandas.pydata.org/pandas-docs/stable/user_guide/indexing.html#returning-a-view-versus-a-copy\n"
     ]
    }
   ],
   "source": [
    "df_test_X.loc[df_test_X.index==666, 'GarageYrBlt'] = 1983"
   ]
  },
  {
   "cell_type": "code",
   "execution_count": 115,
   "metadata": {},
   "outputs": [
    {
     "name": "stderr",
     "output_type": "stream",
     "text": [
      "\n",
      "A value is trying to be set on a copy of a slice from a DataFrame\n",
      "\n",
      "See the caveats in the documentation: https://pandas.pydata.org/pandas-docs/stable/user_guide/indexing.html#returning-a-view-versus-a-copy\n"
     ]
    }
   ],
   "source": [
    "df_test_X.fillna(value=0, inplace=True)"
   ]
  },
  {
   "cell_type": "code",
   "execution_count": 116,
   "metadata": {},
   "outputs": [
    {
     "data": {
      "text/html": [
       "<div>\n",
       "<style scoped>\n",
       "    .dataframe tbody tr th:only-of-type {\n",
       "        vertical-align: middle;\n",
       "    }\n",
       "\n",
       "    .dataframe tbody tr th {\n",
       "        vertical-align: top;\n",
       "    }\n",
       "\n",
       "    .dataframe thead th {\n",
       "        text-align: right;\n",
       "    }\n",
       "</style>\n",
       "<table border=\"1\" class=\"dataframe\">\n",
       "  <thead>\n",
       "    <tr style=\"text-align: right;\">\n",
       "      <th></th>\n",
       "      <th>OverallQual</th>\n",
       "      <th>GrLivArea</th>\n",
       "      <th>TotalBsmtSF</th>\n",
       "      <th>BsmtFinSF1</th>\n",
       "      <th>1stFlrSF</th>\n",
       "      <th>YearBuilt</th>\n",
       "      <th>LotArea</th>\n",
       "      <th>GarageCars</th>\n",
       "      <th>GarageArea</th>\n",
       "      <th>2ndFlrSF</th>\n",
       "      <th>YearRemodAdd</th>\n",
       "      <th>Fireplaces</th>\n",
       "      <th>OverallCond</th>\n",
       "      <th>FullBath</th>\n",
       "      <th>GarageFinish_Unf</th>\n",
       "      <th>OpenPorchSF</th>\n",
       "      <th>GarageYrBlt</th>\n",
       "      <th>GarageType_Detchd</th>\n",
       "      <th>WoodDeckSF</th>\n",
       "      <th>TotRmsAbvGrd</th>\n",
       "    </tr>\n",
       "  </thead>\n",
       "  <tbody>\n",
       "    <tr>\n",
       "      <th>0</th>\n",
       "      <td>5</td>\n",
       "      <td>896</td>\n",
       "      <td>882.0</td>\n",
       "      <td>468.0</td>\n",
       "      <td>896</td>\n",
       "      <td>1961</td>\n",
       "      <td>11622</td>\n",
       "      <td>1.0</td>\n",
       "      <td>730.0</td>\n",
       "      <td>0</td>\n",
       "      <td>1961</td>\n",
       "      <td>0</td>\n",
       "      <td>6</td>\n",
       "      <td>1</td>\n",
       "      <td>1</td>\n",
       "      <td>0</td>\n",
       "      <td>1961.0</td>\n",
       "      <td>0</td>\n",
       "      <td>140</td>\n",
       "      <td>5</td>\n",
       "    </tr>\n",
       "    <tr>\n",
       "      <th>1</th>\n",
       "      <td>6</td>\n",
       "      <td>1329</td>\n",
       "      <td>1329.0</td>\n",
       "      <td>923.0</td>\n",
       "      <td>1329</td>\n",
       "      <td>1958</td>\n",
       "      <td>14267</td>\n",
       "      <td>1.0</td>\n",
       "      <td>312.0</td>\n",
       "      <td>0</td>\n",
       "      <td>1958</td>\n",
       "      <td>0</td>\n",
       "      <td>6</td>\n",
       "      <td>1</td>\n",
       "      <td>1</td>\n",
       "      <td>36</td>\n",
       "      <td>1958.0</td>\n",
       "      <td>0</td>\n",
       "      <td>393</td>\n",
       "      <td>6</td>\n",
       "    </tr>\n",
       "    <tr>\n",
       "      <th>2</th>\n",
       "      <td>5</td>\n",
       "      <td>1629</td>\n",
       "      <td>928.0</td>\n",
       "      <td>791.0</td>\n",
       "      <td>928</td>\n",
       "      <td>1997</td>\n",
       "      <td>13830</td>\n",
       "      <td>2.0</td>\n",
       "      <td>482.0</td>\n",
       "      <td>701</td>\n",
       "      <td>1998</td>\n",
       "      <td>1</td>\n",
       "      <td>5</td>\n",
       "      <td>2</td>\n",
       "      <td>0</td>\n",
       "      <td>34</td>\n",
       "      <td>1997.0</td>\n",
       "      <td>0</td>\n",
       "      <td>212</td>\n",
       "      <td>6</td>\n",
       "    </tr>\n",
       "    <tr>\n",
       "      <th>3</th>\n",
       "      <td>6</td>\n",
       "      <td>1604</td>\n",
       "      <td>926.0</td>\n",
       "      <td>602.0</td>\n",
       "      <td>926</td>\n",
       "      <td>1998</td>\n",
       "      <td>9978</td>\n",
       "      <td>2.0</td>\n",
       "      <td>470.0</td>\n",
       "      <td>678</td>\n",
       "      <td>1998</td>\n",
       "      <td>1</td>\n",
       "      <td>6</td>\n",
       "      <td>2</td>\n",
       "      <td>0</td>\n",
       "      <td>36</td>\n",
       "      <td>1998.0</td>\n",
       "      <td>0</td>\n",
       "      <td>360</td>\n",
       "      <td>7</td>\n",
       "    </tr>\n",
       "    <tr>\n",
       "      <th>4</th>\n",
       "      <td>8</td>\n",
       "      <td>1280</td>\n",
       "      <td>1280.0</td>\n",
       "      <td>263.0</td>\n",
       "      <td>1280</td>\n",
       "      <td>1992</td>\n",
       "      <td>5005</td>\n",
       "      <td>2.0</td>\n",
       "      <td>506.0</td>\n",
       "      <td>0</td>\n",
       "      <td>1992</td>\n",
       "      <td>0</td>\n",
       "      <td>5</td>\n",
       "      <td>2</td>\n",
       "      <td>0</td>\n",
       "      <td>82</td>\n",
       "      <td>1992.0</td>\n",
       "      <td>0</td>\n",
       "      <td>0</td>\n",
       "      <td>5</td>\n",
       "    </tr>\n",
       "  </tbody>\n",
       "</table>\n",
       "</div>"
      ],
      "text/plain": [
       "   OverallQual  GrLivArea  TotalBsmtSF  BsmtFinSF1  1stFlrSF  YearBuilt  \\\n",
       "0            5        896        882.0       468.0       896       1961   \n",
       "1            6       1329       1329.0       923.0      1329       1958   \n",
       "2            5       1629        928.0       791.0       928       1997   \n",
       "3            6       1604        926.0       602.0       926       1998   \n",
       "4            8       1280       1280.0       263.0      1280       1992   \n",
       "\n",
       "   LotArea  GarageCars  GarageArea  2ndFlrSF  YearRemodAdd  Fireplaces  \\\n",
       "0    11622         1.0       730.0         0          1961           0   \n",
       "1    14267         1.0       312.0         0          1958           0   \n",
       "2    13830         2.0       482.0       701          1998           1   \n",
       "3     9978         2.0       470.0       678          1998           1   \n",
       "4     5005         2.0       506.0         0          1992           0   \n",
       "\n",
       "   OverallCond  FullBath  GarageFinish_Unf  OpenPorchSF  GarageYrBlt  \\\n",
       "0            6         1                 1            0       1961.0   \n",
       "1            6         1                 1           36       1958.0   \n",
       "2            5         2                 0           34       1997.0   \n",
       "3            6         2                 0           36       1998.0   \n",
       "4            5         2                 0           82       1992.0   \n",
       "\n",
       "   GarageType_Detchd  WoodDeckSF  TotRmsAbvGrd  \n",
       "0                  0         140             5  \n",
       "1                  0         393             6  \n",
       "2                  0         212             6  \n",
       "3                  0         360             7  \n",
       "4                  0           0             5  "
      ]
     },
     "execution_count": 116,
     "metadata": {},
     "output_type": "execute_result"
    }
   ],
   "source": [
    "df_test_X.head()"
   ]
  },
  {
   "cell_type": "code",
   "execution_count": 117,
   "metadata": {},
   "outputs": [],
   "source": [
    "#it works, but not very accurate. I could try to train on a model that uses all fo the labels\n",
    "predictions = rf.predict(df_test_X)"
   ]
  },
  {
   "cell_type": "markdown",
   "metadata": {},
   "source": [
    "# RF on all labels"
   ]
  },
  {
   "cell_type": "code",
   "execution_count": 118,
   "metadata": {},
   "outputs": [
    {
     "data": {
      "text/plain": [
       "MSSubClass                 0\n",
       "LotFrontage              227\n",
       "LotArea                    0\n",
       "OverallQual                0\n",
       "OverallCond                0\n",
       "YearBuilt                  0\n",
       "YearRemodAdd               0\n",
       "MasVnrArea                15\n",
       "BsmtFinSF1                 1\n",
       "BsmtFinSF2                 1\n",
       "BsmtUnfSF                  1\n",
       "TotalBsmtSF                1\n",
       "1stFlrSF                   0\n",
       "2ndFlrSF                   0\n",
       "LowQualFinSF               0\n",
       "GrLivArea                  0\n",
       "BsmtFullBath               2\n",
       "BsmtHalfBath               2\n",
       "FullBath                   0\n",
       "HalfBath                   0\n",
       "BedroomAbvGr               0\n",
       "KitchenAbvGr               0\n",
       "TotRmsAbvGrd               0\n",
       "Fireplaces                 0\n",
       "GarageYrBlt               78\n",
       "GarageCars                 1\n",
       "GarageArea                 1\n",
       "WoodDeckSF                 0\n",
       "OpenPorchSF                0\n",
       "EnclosedPorch              0\n",
       "3SsnPorch                  0\n",
       "ScreenPorch                0\n",
       "PoolArea                   0\n",
       "MiscVal                    0\n",
       "MoSold                     0\n",
       "YrSold                     0\n",
       "MSZoning_FV                0\n",
       "MSZoning_RH                0\n",
       "MSZoning_RL                0\n",
       "MSZoning_RM                0\n",
       "Street_Pave                0\n",
       "Alley_None                 0\n",
       "Alley_Pave                 0\n",
       "LotShape_IR2               0\n",
       "LotShape_IR3               0\n",
       "LotShape_Reg               0\n",
       "LandContour_HLS            0\n",
       "LandContour_Low            0\n",
       "LandContour_Lvl            0\n",
       "LotConfig_CulDSac          0\n",
       "LotConfig_FR2              0\n",
       "LotConfig_FR3              0\n",
       "LotConfig_Inside           0\n",
       "LandSlope_Mod              0\n",
       "LandSlope_Sev              0\n",
       "Neighborhood_Blueste       0\n",
       "Neighborhood_BrDale        0\n",
       "Neighborhood_BrkSide       0\n",
       "Neighborhood_ClearCr       0\n",
       "Neighborhood_CollgCr       0\n",
       "Neighborhood_Crawfor       0\n",
       "Neighborhood_Edwards       0\n",
       "Neighborhood_Gilbert       0\n",
       "Neighborhood_IDOTRR        0\n",
       "Neighborhood_MeadowV       0\n",
       "Neighborhood_Mitchel       0\n",
       "Neighborhood_NAmes         0\n",
       "Neighborhood_NPkVill       0\n",
       "Neighborhood_NWAmes        0\n",
       "Neighborhood_NoRidge       0\n",
       "Neighborhood_NridgHt       0\n",
       "Neighborhood_OldTown       0\n",
       "Neighborhood_SWISU         0\n",
       "Neighborhood_Sawyer        0\n",
       "Neighborhood_SawyerW       0\n",
       "Neighborhood_Somerst       0\n",
       "Neighborhood_StoneBr       0\n",
       "Neighborhood_Timber        0\n",
       "Neighborhood_Veenker       0\n",
       "Condition1_Feedr           0\n",
       "Condition1_Norm            0\n",
       "Condition1_PosA            0\n",
       "Condition1_PosN            0\n",
       "Condition1_RRAe            0\n",
       "Condition1_RRAn            0\n",
       "Condition1_RRNe            0\n",
       "Condition1_RRNn            0\n",
       "Condition2_Feedr           0\n",
       "Condition2_Norm            0\n",
       "Condition2_PosA            0\n",
       "Condition2_PosN            0\n",
       "BldgType_2fmCon            0\n",
       "BldgType_Duplex            0\n",
       "BldgType_Twnhs             0\n",
       "BldgType_TwnhsE            0\n",
       "HouseStyle_1.5Unf          0\n",
       "HouseStyle_1Story          0\n",
       "HouseStyle_2.5Unf          0\n",
       "HouseStyle_2Story          0\n",
       "HouseStyle_SFoyer          0\n",
       "HouseStyle_SLvl            0\n",
       "RoofStyle_Gable            0\n",
       "RoofStyle_Gambrel          0\n",
       "RoofStyle_Hip              0\n",
       "RoofStyle_Mansard          0\n",
       "RoofStyle_Shed             0\n",
       "RoofMatl_Tar&Grv           0\n",
       "RoofMatl_WdShake           0\n",
       "RoofMatl_WdShngl           0\n",
       "Exterior1st_AsphShn        0\n",
       "Exterior1st_BrkComm        0\n",
       "Exterior1st_BrkFace        0\n",
       "Exterior1st_CBlock         0\n",
       "Exterior1st_CemntBd        0\n",
       "Exterior1st_HdBoard        0\n",
       "Exterior1st_MetalSd        0\n",
       "Exterior1st_Plywood        0\n",
       "Exterior1st_Stucco         0\n",
       "Exterior1st_VinylSd        0\n",
       "Exterior1st_Wd Sdng        0\n",
       "Exterior1st_WdShing        0\n",
       "Exterior2nd_AsphShn        0\n",
       "Exterior2nd_Brk Cmn        0\n",
       "Exterior2nd_BrkFace        0\n",
       "Exterior2nd_CBlock         0\n",
       "Exterior2nd_CmentBd        0\n",
       "Exterior2nd_HdBoard        0\n",
       "Exterior2nd_ImStucc        0\n",
       "Exterior2nd_MetalSd        0\n",
       "Exterior2nd_Plywood        0\n",
       "Exterior2nd_Stone          0\n",
       "Exterior2nd_Stucco         0\n",
       "Exterior2nd_VinylSd        0\n",
       "Exterior2nd_Wd Sdng        0\n",
       "Exterior2nd_Wd Shng        0\n",
       "MasVnrType_BrkFace         0\n",
       "MasVnrType_None            0\n",
       "MasVnrType_Stone           0\n",
       "ExterQual_Fa               0\n",
       "ExterQual_Gd               0\n",
       "ExterQual_TA               0\n",
       "ExterCond_Fa               0\n",
       "ExterCond_Gd               0\n",
       "ExterCond_Po               0\n",
       "ExterCond_TA               0\n",
       "Foundation_CBlock          0\n",
       "Foundation_PConc           0\n",
       "Foundation_Slab            0\n",
       "Foundation_Stone           0\n",
       "Foundation_Wood            0\n",
       "BsmtQual_Fa                0\n",
       "BsmtQual_Gd                0\n",
       "BsmtQual_TA                0\n",
       "BsmtCond_Gd                0\n",
       "BsmtCond_Po                0\n",
       "BsmtCond_TA                0\n",
       "BsmtExposure_Gd            0\n",
       "BsmtExposure_Mn            0\n",
       "BsmtExposure_No            0\n",
       "BsmtFinType1_BLQ           0\n",
       "BsmtFinType1_GLQ           0\n",
       "BsmtFinType1_LwQ           0\n",
       "BsmtFinType1_Rec           0\n",
       "BsmtFinType1_Unf           0\n",
       "BsmtFinType2_BLQ           0\n",
       "BsmtFinType2_GLQ           0\n",
       "BsmtFinType2_LwQ           0\n",
       "BsmtFinType2_Rec           0\n",
       "BsmtFinType2_Unf           0\n",
       "Heating_GasW               0\n",
       "Heating_Grav               0\n",
       "Heating_Wall               0\n",
       "HeatingQC_Fa               0\n",
       "HeatingQC_Gd               0\n",
       "HeatingQC_Po               0\n",
       "HeatingQC_TA               0\n",
       "CentralAir_Y               0\n",
       "Electrical_FuseF           0\n",
       "Electrical_FuseP           0\n",
       "Electrical_SBrkr           0\n",
       "KitchenQual_Fa             0\n",
       "KitchenQual_Gd             0\n",
       "KitchenQual_TA             0\n",
       "Functional_Maj2            0\n",
       "Functional_Min1            0\n",
       "Functional_Min2            0\n",
       "Functional_Mod             0\n",
       "Functional_Sev             0\n",
       "Functional_Typ             0\n",
       "GarageType_Attchd          0\n",
       "GarageType_Basment         0\n",
       "GarageType_BuiltIn         0\n",
       "GarageType_CarPort         0\n",
       "GarageType_Detchd          0\n",
       "GarageFinish_RFn           0\n",
       "GarageFinish_Unf           0\n",
       "GarageQual_Gd              0\n",
       "GarageQual_Po              0\n",
       "GarageQual_TA              0\n",
       "GarageCond_Fa              0\n",
       "GarageCond_Gd              0\n",
       "GarageCond_Po              0\n",
       "GarageCond_TA              0\n",
       "PavedDrive_P               0\n",
       "PavedDrive_Y               0\n",
       "Fence_GdWo                 0\n",
       "Fence_MnPrv                0\n",
       "Fence_MnWw                 0\n",
       "Fence_None                 0\n",
       "SaleType_CWD               0\n",
       "SaleType_Con               0\n",
       "SaleType_ConLD             0\n",
       "SaleType_ConLI             0\n",
       "SaleType_ConLw             0\n",
       "SaleType_New               0\n",
       "SaleType_Oth               0\n",
       "SaleType_WD                0\n",
       "SaleCondition_AdjLand      0\n",
       "SaleCondition_Alloca       0\n",
       "SaleCondition_Family       0\n",
       "SaleCondition_Normal       0\n",
       "SaleCondition_Partial      0\n",
       "dtype: int64"
      ]
     },
     "execution_count": 118,
     "metadata": {},
     "output_type": "execute_result"
    }
   ],
   "source": [
    "#preprocessing\n",
    "df_test.isna().sum()\n"
   ]
  },
  {
   "cell_type": "code",
   "execution_count": 119,
   "metadata": {},
   "outputs": [
    {
     "data": {
      "text/plain": [
       "0      1453\n",
       "144       1\n",
       "228       1\n",
       "368       1\n",
       "444       1\n",
       "561       1\n",
       "800       1\n",
       "Name: PoolArea, dtype: int64"
      ]
     },
     "execution_count": 119,
     "metadata": {},
     "output_type": "execute_result"
    }
   ],
   "source": [
    "df_test['PoolArea'].value_counts()"
   ]
  },
  {
   "cell_type": "code",
   "execution_count": 120,
   "metadata": {},
   "outputs": [],
   "source": [
    "#we can drop poolqc and fill every other na with 0 with the exception of the row we found earlier in the \n",
    "#20 feature rf model"
   ]
  },
  {
   "cell_type": "code",
   "execution_count": 121,
   "metadata": {},
   "outputs": [],
   "source": [
    "df_test.loc[df_test_X.index==666, 'GarageYrBlt'] = 1983"
   ]
  },
  {
   "cell_type": "code",
   "execution_count": 122,
   "metadata": {},
   "outputs": [],
   "source": [
    "df_test.fillna(value=0, inplace=True)"
   ]
  },
  {
   "cell_type": "code",
   "execution_count": 123,
   "metadata": {},
   "outputs": [],
   "source": [
    "#train an rf model with the labels that match df_test\n",
    "X_train, X_test, y_train, y_test = train_test_split(X[rf_labels], y, test_size=0.25, random_state=42)"
   ]
  },
  {
   "cell_type": "code",
   "execution_count": 124,
   "metadata": {},
   "outputs": [
    {
     "data": {
      "text/plain": [
       "RandomForestRegressor(max_depth=40, n_estimators=200)"
      ]
     },
     "execution_count": 124,
     "metadata": {},
     "output_type": "execute_result"
    }
   ],
   "source": [
    "rf.fit(X_train,y_train)"
   ]
  },
  {
   "cell_type": "code",
   "execution_count": 125,
   "metadata": {},
   "outputs": [],
   "source": [
    "predictions = rf.predict(df_test[rf_labels])"
   ]
  },
  {
   "cell_type": "markdown",
   "metadata": {},
   "source": [
    "Using the random forest regressor with the top 20 predictors according to shap values, the RMSLE was .15472\n",
    "With the top 78 predictors, the improvement was minimal to .15330\n",
    "The random forest regressor was the least accurate of three regressors I tried according to the initial comparison run, but there are changes I could make in data preprocessing and possibly in the hyper-parameter turning as well for a better score using this method."
   ]
  },
  {
   "cell_type": "markdown",
   "metadata": {},
   "source": [
    "# GradientBoosting Test"
   ]
  },
  {
   "cell_type": "markdown",
   "metadata": {},
   "source": [
    "For the gradient boosting test I will need to check the variables for collinearity, something that random forests was good at eliminating naturally. I could try training a model on the same predictors first to see how effective it is. I can also do a test submission on the model without checking the variables for collinearity."
   ]
  },
  {
   "cell_type": "code",
   "execution_count": 126,
   "metadata": {},
   "outputs": [],
   "source": [
    "X_train, X_test, y_train, y_test = train_test_split(X[gbr_labels], y, test_size=0.25, random_state=42)"
   ]
  },
  {
   "cell_type": "code",
   "execution_count": 127,
   "metadata": {},
   "outputs": [
    {
     "data": {
      "text/plain": [
       "GradientBoostingRegressor(max_depth=2, min_samples_split=10, n_estimators=200)"
      ]
     },
     "execution_count": 127,
     "metadata": {},
     "output_type": "execute_result"
    }
   ],
   "source": [
    "gbr.fit(X_train,y_train)"
   ]
  },
  {
   "cell_type": "code",
   "execution_count": 128,
   "metadata": {},
   "outputs": [],
   "source": [
    "#predictions without checking for collinearity\n",
    "predictions = gbr.predict(df_test[gbr_labels])"
   ]
  },
  {
   "cell_type": "markdown",
   "metadata": {},
   "source": [
    "The submission without accounting for possibly collinear variables scored .14110, which is a good improvement over the random forest regressor. Next submission will refine the predictors used."
   ]
  },
  {
   "cell_type": "code",
   "execution_count": 129,
   "metadata": {},
   "outputs": [],
   "source": [
    "#X[gbr_labels].corr()"
   ]
  },
  {
   "cell_type": "markdown",
   "metadata": {},
   "source": [
    "# XGBoost Test"
   ]
  },
  {
   "cell_type": "code",
   "execution_count": 130,
   "metadata": {},
   "outputs": [],
   "source": [
    "X_train, X_test, y_train, y_test = train_test_split(X[xgb_labels], y, test_size=0.25, random_state=42)"
   ]
  },
  {
   "cell_type": "code",
   "execution_count": 131,
   "metadata": {},
   "outputs": [
    {
     "data": {
      "text/plain": [
       "XGBRegressor(base_score=0.5, booster='gbtree', colsample_bylevel=1,\n",
       "             colsample_bynode=1, colsample_bytree=0.3, gamma=0.2, gpu_id=-1,\n",
       "             importance_type='gain', interaction_constraints='',\n",
       "             learning_rate=0.1, max_delta_step=0, max_depth=4,\n",
       "             min_child_weight=3, missing=nan, monotone_constraints='()',\n",
       "             n_estimators=200, n_jobs=12, num_parallel_tree=1, random_state=0,\n",
       "             reg_alpha=0, reg_lambda=1, scale_pos_weight=1, subsample=1,\n",
       "             tree_method='exact', validate_parameters=1, verbosity=None)"
      ]
     },
     "execution_count": 131,
     "metadata": {},
     "output_type": "execute_result"
    }
   ],
   "source": [
    "xgb.fit(X_train, y_train)"
   ]
  },
  {
   "cell_type": "code",
   "execution_count": 132,
   "metadata": {},
   "outputs": [],
   "source": [
    "predictions = xgb.predict(df_test[xgb_labels])"
   ]
  },
  {
   "cell_type": "markdown",
   "metadata": {},
   "source": [
    "The predictions using XGBoost regressor without adjusting for collinearity scored .12896, which is a significant improvement over the Gradient Boost regressor unadjusted. The rest of my effort will be directed towards improving this model"
   ]
  },
  {
   "cell_type": "markdown",
   "metadata": {},
   "source": [
    "# ML Model Test"
   ]
  },
  {
   "cell_type": "code",
   "execution_count": 133,
   "metadata": {},
   "outputs": [],
   "source": [
    "#primary hyperparamters of neural networks\n",
    "model_info = {}\n",
    "model_info['Hidden layers'] = [100] * 6\n",
    "#model_info['Input size'] = og_one_hot.shape[1] - 1\n",
    "model_info['Activations'] = ['relu'] * 6\n",
    "model_info['Optimization'] = 'adadelta'\n",
    "model_info[\"Learning rate\"] = .005\n",
    "model_info[\"Batch size\"] = 32\n",
    "model_info[\"Preprocessing\"] = 'Standard'\n",
    "model_info[\"Lambda\"] = 0\n",
    "#model_2['Regularization'] = 'l2'\n",
    "#model_2['Reg param'] = 0.0005"
   ]
  },
  {
   "cell_type": "code",
   "execution_count": null,
   "metadata": {
    "collapsed": true,
    "jupyter": {
     "outputs_hidden": true
    }
   },
   "outputs": [],
   "source": []
  }
 ],
 "metadata": {
  "kernelspec": {
   "display_name": "Python 3",
   "language": "python",
   "name": "python3"
  },
  "language_info": {
   "codemirror_mode": {
    "name": "ipython",
    "version": 3
   },
   "file_extension": ".py",
   "mimetype": "text/x-python",
   "name": "python",
   "nbconvert_exporter": "python",
   "pygments_lexer": "ipython3",
   "version": "3.8.5"
  }
 },
 "nbformat": 4,
 "nbformat_minor": 4
}
