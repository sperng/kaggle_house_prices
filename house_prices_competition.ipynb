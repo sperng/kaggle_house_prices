{
 "cells": [
  {
   "cell_type": "code",
   "execution_count": 1,
   "metadata": {},
   "outputs": [],
   "source": [
    "#imports\n",
    "import pandas as pd\n",
    "import numpy as np\n",
    "import matplotlib.pyplot as plt\n",
    "import seaborn as sns\n",
    "import zipfile\n",
    "import umap\n",
    "import shap\n",
    "%matplotlib inline"
   ]
  },
  {
   "cell_type": "code",
   "execution_count": 2,
   "metadata": {},
   "outputs": [],
   "source": [
    "#ml imports\n",
    "from sklearn import metrics, model_selection\n",
    "from sklearn.metrics import classification_report, confusion_matrix\n",
    "from sklearn.preprocessing import StandardScaler\n",
    "from sklearn.model_selection import train_test_split, cross_val_score, KFold, RandomizedSearchCV\n",
    "from sklearn.decomposition import PCA\n",
    "from sklearn.ensemble import RandomForestRegressor, GradientBoostingRegressor\n",
    "from sklearn.feature_selection import SelectFromModel\n",
    "from sklearn.linear_model import LinearRegression, LogisticRegression\n",
    "from sklearn.svm import SVR\n",
    "from sklearn.neighbors import KNeighborsRegressor\n",
    "from sklearn.tree import DecisionTreeRegressor\n",
    "from xgboost import XGBRegressor"
   ]
  },
  {
   "cell_type": "code",
   "execution_count": 3,
   "metadata": {},
   "outputs": [],
   "source": [
    "df = pd.read_csv('.\\\\data\\\\train.csv')"
   ]
  },
  {
   "cell_type": "code",
   "execution_count": 4,
   "metadata": {},
   "outputs": [],
   "source": [
    "df_test = pd.read_csv('.\\\\data\\\\test.csv')"
   ]
  },
  {
   "cell_type": "code",
   "execution_count": 5,
   "metadata": {},
   "outputs": [],
   "source": [
    "file = open('.//data/data_description.txt', 'r')"
   ]
  },
  {
   "cell_type": "code",
   "execution_count": 6,
   "metadata": {},
   "outputs": [
    {
     "name": "stdout",
     "output_type": "stream",
     "text": [
      "MSSubClass: Identifies the type of dwelling involved in the sale.\n",
      "\n",
      "20\t1-STORY 1946 & NEWER ALL STYLES\n",
      "30\t1-STORY 1945 & OLDER\n",
      "40\t1-STORY W/FINISHED ATTIC ALL AGES\n",
      "45\t1-1/2 STORY - UNFINISHED ALL AGES\n",
      "50\t1-1/2 STORY FINISHED ALL AGES\n",
      "60\t2-STORY 1946 & NEWER\n",
      "70\t2-STORY 1945 & OLDER\n",
      "75\t2-1/2 STORY ALL AGES\n",
      "80\tSPLIT OR MULTI-LEVEL\n",
      "85\tSPLIT FOYER\n",
      "90\tDUPLEX - ALL STYLES AND AGES\n",
      "120\t1-STORY PUD (Planned Unit Development) - 1946 & NEWER\n",
      "150\t1-1/2 STORY PUD - ALL AGES\n",
      "160\t2-STORY PUD - 1946 & NEWER\n",
      "180\tPUD - MULTILEVEL - INCL SPLIT LEV/FOYER\n",
      "190\t2 FAMILY CONVERSION - ALL STYLES AND AGES\n",
      "\n",
      "MSZoning: Identifies the general zoning classification of the sale.\n",
      "\n",
      "A\tAgriculture\n",
      "C\tCommercial\n",
      "FV\tFloating Village Residential\n",
      "I\tIndustrial\n",
      "RH\tResidential High Density\n",
      "RL\tResidential Low Density\n",
      "RP\tResidential Low Density Park\n",
      "RM\tResidential Medium Density\n",
      "\n",
      "LotFrontage: Linear feet of street connected to property\n",
      "\n",
      "LotArea: Lot size in square feet\n",
      "\n",
      "Street: Type of road access to property\n",
      "\n",
      "Grvl\tGravel\n",
      "Pave\tPaved\n",
      "\n",
      "Alley: Type of alley access to property\n",
      "\n",
      "Grvl\tGravel\n",
      "Pave\tPaved\n",
      "NA \tNo alley access\n",
      "\n",
      "LotShape: General shape of property\n",
      "\n",
      "Reg\tRegular\n",
      "IR1\tSlightly irregular\n",
      "IR2\tModerately Irregular\n",
      "IR3\tIrregular\n",
      "\n",
      "LandContour: Flatness of the property\n",
      "\n",
      "Lvl\tNear Flat/Level\n",
      "Bnk\tBanked - Quick and significant rise from street grade to building\n",
      "HLS\tHillside - Significant slope from side to side\n",
      "Low\tDepression\n",
      "\n",
      "Utilities: Type of utilities available\n",
      "\n",
      "AllPub\tAll public Utilities (E,G,W,& S)\n",
      "NoSewr\tElectricity, Gas, and Water (Septic Tank)\n",
      "NoSeWa\tElectricity and Gas Only\n",
      "ELO\tElectricity only\n",
      "\n",
      "LotConfig: Lot configuration\n",
      "\n",
      "Inside\tInside lot\n",
      "Corner\tCorner lot\n",
      "CulDSac\tCul-de-sac\n",
      "FR2\tFrontage on 2 sides of property\n",
      "FR3\tFrontage on 3 sides of property\n",
      "\n",
      "LandSlope: Slope of property\n",
      "\n",
      "Gtl\tGentle slope\n",
      "Mod\tModerate Slope\n",
      "Sev\tSevere Slope\n",
      "\n",
      "Neighborhood: Physical locations within Ames city limits\n",
      "\n",
      "Blmngtn\tBloomington Heights\n",
      "Blueste\tBluestem\n",
      "BrDale\tBriardale\n",
      "BrkSide\tBrookside\n",
      "ClearCr\tClear Creek\n",
      "CollgCr\tCollege Creek\n",
      "Crawfor\tCrawford\n",
      "Edwards\tEdwards\n",
      "Gilbert\tGilbert\n",
      "IDOTRR\tIowa DOT and Rail Road\n",
      "MeadowV\tMeadow Village\n",
      "Mitchel\tMitchell\n",
      "Names\tNorth Ames\n",
      "NoRidge\tNorthridge\n",
      "NPkVill\tNorthpark Villa\n",
      "NridgHt\tNorthridge Heights\n",
      "NWAmes\tNorthwest Ames\n",
      "OldTown\tOld Town\n",
      "SWISU\tSouth & West of Iowa State University\n",
      "Sawyer\tSawyer\n",
      "SawyerW\tSawyer West\n",
      "Somerst\tSomerset\n",
      "StoneBr\tStone Brook\n",
      "Timber\tTimberland\n",
      "Veenker\tVeenker\n",
      "\n",
      "Condition1: Proximity to various conditions\n",
      "\n",
      "Artery\tAdjacent to arterial street\n",
      "Feedr\tAdjacent to feeder street\n",
      "Norm\tNormal\n",
      "RRNn\tWithin 200' of North-South Railroad\n",
      "RRAn\tAdjacent to North-South Railroad\n",
      "PosN\tNear positive off-site feature--park, greenbelt, etc.\n",
      "PosA\tAdjacent to postive off-site feature\n",
      "RRNe\tWithin 200' of East-West Railroad\n",
      "RRAe\tAdjacent to East-West Railroad\n",
      "\n",
      "Condition2: Proximity to various conditions (if more than one is present)\n",
      "\n",
      "Artery\tAdjacent to arterial street\n",
      "Feedr\tAdjacent to feeder street\n",
      "Norm\tNormal\n",
      "RRNn\tWithin 200' of North-South Railroad\n",
      "RRAn\tAdjacent to North-South Railroad\n",
      "PosN\tNear positive off-site feature--park, greenbelt, etc.\n",
      "PosA\tAdjacent to postive off-site feature\n",
      "RRNe\tWithin 200' of East-West Railroad\n",
      "RRAe\tAdjacent to East-West Railroad\n",
      "\n",
      "BldgType: Type of dwelling\n",
      "\n",
      "1Fam\tSingle-family Detached\n",
      "2FmCon\tTwo-family Conversion; originally built as one-family dwelling\n",
      "Duplx\tDuplex\n",
      "TwnhsE\tTownhouse End Unit\n",
      "TwnhsI\tTownhouse Inside Unit\n",
      "\n",
      "HouseStyle: Style of dwelling\n",
      "\n",
      "1Story\tOne story\n",
      "1.5Fin\tOne and one-half story: 2nd level finished\n",
      "1.5Unf\tOne and one-half story: 2nd level unfinished\n",
      "2Story\tTwo story\n",
      "2.5Fin\tTwo and one-half story: 2nd level finished\n",
      "2.5Unf\tTwo and one-half story: 2nd level unfinished\n",
      "SFoyer\tSplit Foyer\n",
      "SLvl\tSplit Level\n",
      "\n",
      "OverallQual: Rates the overall material and finish of the house\n",
      "\n",
      "10\tVery Excellent\n",
      "9\tExcellent\n",
      "8\tVery Good\n",
      "7\tGood\n",
      "6\tAbove Average\n",
      "5\tAverage\n",
      "4\tBelow Average\n",
      "3\tFair\n",
      "2\tPoor\n",
      "1\tVery Poor\n",
      "\n",
      "OverallCond: Rates the overall condition of the house\n",
      "\n",
      "10\tVery Excellent\n",
      "9\tExcellent\n",
      "8\tVery Good\n",
      "7\tGood\n",
      "6\tAbove Average\n",
      "5\tAverage\n",
      "4\tBelow Average\n",
      "3\tFair\n",
      "2\tPoor\n",
      "1\tVery Poor\n",
      "\n",
      "YearBuilt: Original construction date\n",
      "\n",
      "YearRemodAdd: Remodel date (same as construction date if no remodeling or additions)\n",
      "\n",
      "RoofStyle: Type of roof\n",
      "\n",
      "Flat\tFlat\n",
      "Gable\tGable\n",
      "Gambrel\tGabrel (Barn)\n",
      "Hip\tHip\n",
      "Mansard\tMansard\n",
      "Shed\tShed\n",
      "\n",
      "RoofMatl: Roof material\n",
      "\n",
      "ClyTile\tClay or Tile\n",
      "CompShg\tStandard (Composite) Shingle\n",
      "Membran\tMembrane\n",
      "Metal\tMetal\n",
      "Roll\tRoll\n",
      "Tar&Grv\tGravel & Tar\n",
      "WdShake\tWood Shakes\n",
      "WdShngl\tWood Shingles\n",
      "\n",
      "Exterior1st: Exterior covering on house\n",
      "\n",
      "AsbShng\tAsbestos Shingles\n",
      "AsphShn\tAsphalt Shingles\n",
      "BrkComm\tBrick Common\n",
      "BrkFace\tBrick Face\n",
      "CBlock\tCinder Block\n",
      "CemntBd\tCement Board\n",
      "HdBoard\tHard Board\n",
      "ImStucc\tImitation Stucco\n",
      "MetalSd\tMetal Siding\n",
      "Other\tOther\n",
      "Plywood\tPlywood\n",
      "PreCast\tPreCast\n",
      "Stone\tStone\n",
      "Stucco\tStucco\n",
      "VinylSd\tVinyl Siding\n",
      "Wd Sdng\tWood Siding\n",
      "WdShing\tWood Shingles\n",
      "\n",
      "Exterior2nd: Exterior covering on house (if more than one material)\n",
      "\n",
      "AsbShng\tAsbestos Shingles\n",
      "AsphShn\tAsphalt Shingles\n",
      "BrkComm\tBrick Common\n",
      "BrkFace\tBrick Face\n",
      "CBlock\tCinder Block\n",
      "CemntBd\tCement Board\n",
      "HdBoard\tHard Board\n",
      "ImStucc\tImitation Stucco\n",
      "MetalSd\tMetal Siding\n",
      "Other\tOther\n",
      "Plywood\tPlywood\n",
      "PreCast\tPreCast\n",
      "Stone\tStone\n",
      "Stucco\tStucco\n",
      "VinylSd\tVinyl Siding\n",
      "Wd Sdng\tWood Siding\n",
      "WdShing\tWood Shingles\n",
      "\n",
      "MasVnrType: Masonry veneer type\n",
      "\n",
      "BrkCmn\tBrick Common\n",
      "BrkFace\tBrick Face\n",
      "CBlock\tCinder Block\n",
      "None\tNone\n",
      "Stone\tStone\n",
      "\n",
      "MasVnrArea: Masonry veneer area in square feet\n",
      "\n",
      "ExterQual: Evaluates the quality of the material on the exterior\n",
      "\n",
      "Ex\tExcellent\n",
      "Gd\tGood\n",
      "TA\tAverage/Typical\n",
      "Fa\tFair\n",
      "Po\tPoor\n",
      "\n",
      "ExterCond: Evaluates the present condition of the material on the exterior\n",
      "\n",
      "Ex\tExcellent\n",
      "Gd\tGood\n",
      "TA\tAverage/Typical\n",
      "Fa\tFair\n",
      "Po\tPoor\n",
      "\n",
      "Foundation: Type of foundation\n",
      "\n",
      "BrkTil\tBrick & Tile\n",
      "CBlock\tCinder Block\n",
      "PConc\tPoured Contrete\n",
      "Slab\tSlab\n",
      "Stone\tStone\n",
      "Wood\tWood\n",
      "\n",
      "BsmtQual: Evaluates the height of the basement\n",
      "\n",
      "Ex\tExcellent (100+ inches)\n",
      "Gd\tGood (90-99 inches)\n",
      "TA\tTypical (80-89 inches)\n",
      "Fa\tFair (70-79 inches)\n",
      "Po\tPoor (<70 inches\n",
      "NA\tNo Basement\n",
      "\n",
      "BsmtCond: Evaluates the general condition of the basement\n",
      "\n",
      "Ex\tExcellent\n",
      "Gd\tGood\n",
      "TA\tTypical - slight dampness allowed\n",
      "Fa\tFair - dampness or some cracking or settling\n",
      "Po\tPoor - Severe cracking, settling, or wetness\n",
      "NA\tNo Basement\n",
      "\n",
      "BsmtExposure: Refers to walkout or garden level walls\n",
      "\n",
      "Gd\tGood Exposure\n",
      "Av\tAverage Exposure (split levels or foyers typically score average or above)\n",
      "Mn\tMimimum Exposure\n",
      "No\tNo Exposure\n",
      "NA\tNo Basement\n",
      "\n",
      "BsmtFinType1: Rating of basement finished area\n",
      "\n",
      "GLQ\tGood Living Quarters\n",
      "ALQ\tAverage Living Quarters\n",
      "BLQ\tBelow Average Living Quarters\n",
      "Rec\tAverage Rec Room\n",
      "LwQ\tLow Quality\n",
      "Unf\tUnfinshed\n",
      "NA\tNo Basement\n",
      "\n",
      "BsmtFinSF1: Type 1 finished square feet\n",
      "\n",
      "BsmtFinType2: Rating of basement finished area (if multiple types)\n",
      "\n",
      "GLQ\tGood Living Quarters\n",
      "ALQ\tAverage Living Quarters\n",
      "BLQ\tBelow Average Living Quarters\n",
      "Rec\tAverage Rec Room\n",
      "LwQ\tLow Quality\n",
      "Unf\tUnfinshed\n",
      "NA\tNo Basement\n",
      "\n",
      "BsmtFinSF2: Type 2 finished square feet\n",
      "\n",
      "BsmtUnfSF: Unfinished square feet of basement area\n",
      "\n",
      "TotalBsmtSF: Total square feet of basement area\n",
      "\n",
      "Heating: Type of heating\n",
      "\n",
      "Floor\tFloor Furnace\n",
      "GasA\tGas forced warm air furnace\n",
      "GasW\tGas hot water or steam heat\n",
      "Grav\tGravity furnace\n",
      "OthW\tHot water or steam heat other than gas\n",
      "Wall\tWall furnace\n",
      "\n",
      "HeatingQC: Heating quality and condition\n",
      "\n",
      "Ex\tExcellent\n",
      "Gd\tGood\n",
      "TA\tAverage/Typical\n",
      "Fa\tFair\n",
      "Po\tPoor\n",
      "\n",
      "CentralAir: Central air conditioning\n",
      "\n",
      "N\tNo\n",
      "Y\tYes\n",
      "\n",
      "Electrical: Electrical system\n",
      "\n",
      "SBrkr\tStandard Circuit Breakers & Romex\n",
      "FuseA\tFuse Box over 60 AMP and all Romex wiring (Average)\n",
      "FuseF\t60 AMP Fuse Box and mostly Romex wiring (Fair)\n",
      "FuseP\t60 AMP Fuse Box and mostly knob & tube wiring (poor)\n",
      "Mix\tMixed\n",
      "\n",
      "1stFlrSF: First Floor square feet\n",
      "\n",
      "2ndFlrSF: Second floor square feet\n",
      "\n",
      "LowQualFinSF: Low quality finished square feet (all floors)\n",
      "\n",
      "GrLivArea: Above grade (ground) living area square feet\n",
      "\n",
      "BsmtFullBath: Basement full bathrooms\n",
      "\n",
      "BsmtHalfBath: Basement half bathrooms\n",
      "\n",
      "FullBath: Full bathrooms above grade\n",
      "\n",
      "HalfBath: Half baths above grade\n",
      "\n",
      "Bedroom: Bedrooms above grade (does NOT include basement bedrooms)\n",
      "\n",
      "Kitchen: Kitchens above grade\n",
      "\n",
      "KitchenQual: Kitchen quality\n",
      "\n",
      "Ex\tExcellent\n",
      "Gd\tGood\n",
      "TA\tTypical/Average\n",
      "Fa\tFair\n",
      "Po\tPoor\n",
      "\n",
      "TotRmsAbvGrd: Total rooms above grade (does not include bathrooms)\n",
      "\n",
      "Functional: Home functionality (Assume typical unless deductions are warranted)\n",
      "\n",
      "Typ\tTypical Functionality\n",
      "Min1\tMinor Deductions 1\n",
      "Min2\tMinor Deductions 2\n",
      "Mod\tModerate Deductions\n",
      "Maj1\tMajor Deductions 1\n",
      "Maj2\tMajor Deductions 2\n",
      "Sev\tSeverely Damaged\n",
      "Sal\tSalvage only\n",
      "\n",
      "Fireplaces: Number of fireplaces\n",
      "\n",
      "FireplaceQu: Fireplace quality\n",
      "\n",
      "Ex\tExcellent - Exceptional Masonry Fireplace\n",
      "Gd\tGood - Masonry Fireplace in main level\n",
      "TA\tAverage - Prefabricated Fireplace in main living area or Masonry Fireplace in basement\n",
      "Fa\tFair - Prefabricated Fireplace in basement\n",
      "Po\tPoor - Ben Franklin Stove\n",
      "NA\tNo Fireplace\n",
      "\n",
      "GarageType: Garage location\n",
      "\n",
      "2Types\tMore than one type of garage\n",
      "Attchd\tAttached to home\n",
      "Basment\tBasement Garage\n",
      "BuiltIn\tBuilt-In (Garage part of house - typically has room above garage)\n",
      "CarPort\tCar Port\n",
      "Detchd\tDetached from home\n",
      "NA\tNo Garage\n",
      "\n",
      "GarageYrBlt: Year garage was built\n",
      "\n",
      "GarageFinish: Interior finish of the garage\n",
      "\n",
      "Fin\tFinished\n",
      "RFn\tRough Finished\n",
      "Unf\tUnfinished\n",
      "NA\tNo Garage\n",
      "\n",
      "GarageCars: Size of garage in car capacity\n",
      "\n",
      "GarageArea: Size of garage in square feet\n",
      "\n",
      "GarageQual: Garage quality\n",
      "\n",
      "Ex\tExcellent\n",
      "Gd\tGood\n",
      "TA\tTypical/Average\n",
      "Fa\tFair\n",
      "Po\tPoor\n",
      "NA\tNo Garage\n",
      "\n",
      "GarageCond: Garage condition\n",
      "\n",
      "Ex\tExcellent\n",
      "Gd\tGood\n",
      "TA\tTypical/Average\n",
      "Fa\tFair\n",
      "Po\tPoor\n",
      "NA\tNo Garage\n",
      "\n",
      "PavedDrive: Paved driveway\n",
      "\n",
      "Y\tPaved\n",
      "P\tPartial Pavement\n",
      "N\tDirt/Gravel\n",
      "\n",
      "WoodDeckSF: Wood deck area in square feet\n",
      "\n",
      "OpenPorchSF: Open porch area in square feet\n",
      "\n",
      "EnclosedPorch: Enclosed porch area in square feet\n",
      "\n",
      "3SsnPorch: Three season porch area in square feet\n",
      "\n",
      "ScreenPorch: Screen porch area in square feet\n",
      "\n",
      "PoolArea: Pool area in square feet\n",
      "\n",
      "PoolQC: Pool quality\n",
      "\n",
      "Ex\tExcellent\n",
      "Gd\tGood\n",
      "TA\tAverage/Typical\n",
      "Fa\tFair\n",
      "NA\tNo Pool\n",
      "\n",
      "Fence: Fence quality\n",
      "\n",
      "GdPrv\tGood Privacy\n",
      "MnPrv\tMinimum Privacy\n",
      "GdWo\tGood Wood\n",
      "MnWw\tMinimum Wood/Wire\n",
      "NA\tNo Fence\n",
      "\n",
      "MiscFeature: Miscellaneous feature not covered in other categories\n",
      "\n",
      "Elev\tElevator\n",
      "Gar2\t2nd Garage (if not described in garage section)\n",
      "Othr\tOther\n",
      "Shed\tShed (over 100 SF)\n",
      "TenC\tTennis Court\n",
      "NA\tNone\n",
      "\n",
      "MiscVal: $Value of miscellaneous feature\n",
      "\n",
      "MoSold: Month Sold (MM)\n",
      "\n",
      "YrSold: Year Sold (YYYY)\n",
      "\n",
      "SaleType: Type of sale\n",
      "\n",
      "WD \tWarranty Deed - Conventional\n",
      "CWD\tWarranty Deed - Cash\n",
      "VWD\tWarranty Deed - VA Loan\n",
      "New\tHome just constructed and sold\n",
      "COD\tCourt Officer Deed/Estate\n",
      "Con\tContract 15% Down payment regular terms\n",
      "ConLw\tContract Low Down payment and low interest\n",
      "ConLI\tContract Low Interest\n",
      "ConLD\tContract Low Down\n",
      "Oth\tOther\n",
      "\n",
      "SaleCondition: Condition of sale\n",
      "\n",
      "Normal\tNormal Sale\n",
      "Abnorml\tAbnormal Sale -  trade, foreclosure, short sale\n",
      "AdjLand\tAdjoining Land Purchase\n",
      "Alloca\tAllocation - two linked properties with separate deeds, typically condo with a garage unit\n",
      "Family\tSale between family members\n",
      "Partial\tHome was not completed when last assessed (associated with New Homes)\n"
     ]
    }
   ],
   "source": [
    "with open('.//data/data_description.txt') as file:\n",
    "    text_data = file.readlines()\n",
    "for temp in text_data:\n",
    "    print(temp.strip())"
   ]
  },
  {
   "cell_type": "code",
   "execution_count": 7,
   "metadata": {},
   "outputs": [],
   "source": [
    "#similar sounding column names to later compare/columns to possibly combine to avoid collinearity:\n",
    "#Condition1, Condition2\n",
    "#OverallQual, OverallCond\n",
    "#YearBuilt,YearRemodAdd\n",
    "#Exterior1st, Exterior2nd\n",
    "#ExterQual, ExterCond\n",
    "#BsmtFinSF1, BsmtFinType2, BsmntUnfSF, TotalBsmtSF\n",
    "#BsmtFullBath, BsmtHalfBath\n",
    "#FullBath, HalfBath\n",
    "#All of the number and quality columns\n",
    "#GarageCars, GarageArea\n",
    "#GarageQual, GarageCond\n",
    "#WoodDeckSF, OpenPorchSF, EnclosedPorch, 3SsnPorch\n",
    "#MiscFeature, MiscVal"
   ]
  },
  {
   "cell_type": "markdown",
   "metadata": {},
   "source": [
    "# Data Exploration\n",
    "The label is the SalePrice column"
   ]
  },
  {
   "cell_type": "code",
   "execution_count": 8,
   "metadata": {},
   "outputs": [
    {
     "name": "stdout",
     "output_type": "stream",
     "text": [
      "<class 'pandas.core.frame.DataFrame'>\n",
      "RangeIndex: 1460 entries, 0 to 1459\n",
      "Data columns (total 81 columns):\n",
      " #   Column         Non-Null Count  Dtype  \n",
      "---  ------         --------------  -----  \n",
      " 0   Id             1460 non-null   int64  \n",
      " 1   MSSubClass     1460 non-null   int64  \n",
      " 2   MSZoning       1460 non-null   object \n",
      " 3   LotFrontage    1201 non-null   float64\n",
      " 4   LotArea        1460 non-null   int64  \n",
      " 5   Street         1460 non-null   object \n",
      " 6   Alley          91 non-null     object \n",
      " 7   LotShape       1460 non-null   object \n",
      " 8   LandContour    1460 non-null   object \n",
      " 9   Utilities      1460 non-null   object \n",
      " 10  LotConfig      1460 non-null   object \n",
      " 11  LandSlope      1460 non-null   object \n",
      " 12  Neighborhood   1460 non-null   object \n",
      " 13  Condition1     1460 non-null   object \n",
      " 14  Condition2     1460 non-null   object \n",
      " 15  BldgType       1460 non-null   object \n",
      " 16  HouseStyle     1460 non-null   object \n",
      " 17  OverallQual    1460 non-null   int64  \n",
      " 18  OverallCond    1460 non-null   int64  \n",
      " 19  YearBuilt      1460 non-null   int64  \n",
      " 20  YearRemodAdd   1460 non-null   int64  \n",
      " 21  RoofStyle      1460 non-null   object \n",
      " 22  RoofMatl       1460 non-null   object \n",
      " 23  Exterior1st    1460 non-null   object \n",
      " 24  Exterior2nd    1460 non-null   object \n",
      " 25  MasVnrType     1452 non-null   object \n",
      " 26  MasVnrArea     1452 non-null   float64\n",
      " 27  ExterQual      1460 non-null   object \n",
      " 28  ExterCond      1460 non-null   object \n",
      " 29  Foundation     1460 non-null   object \n",
      " 30  BsmtQual       1423 non-null   object \n",
      " 31  BsmtCond       1423 non-null   object \n",
      " 32  BsmtExposure   1422 non-null   object \n",
      " 33  BsmtFinType1   1423 non-null   object \n",
      " 34  BsmtFinSF1     1460 non-null   int64  \n",
      " 35  BsmtFinType2   1422 non-null   object \n",
      " 36  BsmtFinSF2     1460 non-null   int64  \n",
      " 37  BsmtUnfSF      1460 non-null   int64  \n",
      " 38  TotalBsmtSF    1460 non-null   int64  \n",
      " 39  Heating        1460 non-null   object \n",
      " 40  HeatingQC      1460 non-null   object \n",
      " 41  CentralAir     1460 non-null   object \n",
      " 42  Electrical     1459 non-null   object \n",
      " 43  1stFlrSF       1460 non-null   int64  \n",
      " 44  2ndFlrSF       1460 non-null   int64  \n",
      " 45  LowQualFinSF   1460 non-null   int64  \n",
      " 46  GrLivArea      1460 non-null   int64  \n",
      " 47  BsmtFullBath   1460 non-null   int64  \n",
      " 48  BsmtHalfBath   1460 non-null   int64  \n",
      " 49  FullBath       1460 non-null   int64  \n",
      " 50  HalfBath       1460 non-null   int64  \n",
      " 51  BedroomAbvGr   1460 non-null   int64  \n",
      " 52  KitchenAbvGr   1460 non-null   int64  \n",
      " 53  KitchenQual    1460 non-null   object \n",
      " 54  TotRmsAbvGrd   1460 non-null   int64  \n",
      " 55  Functional     1460 non-null   object \n",
      " 56  Fireplaces     1460 non-null   int64  \n",
      " 57  FireplaceQu    770 non-null    object \n",
      " 58  GarageType     1379 non-null   object \n",
      " 59  GarageYrBlt    1379 non-null   float64\n",
      " 60  GarageFinish   1379 non-null   object \n",
      " 61  GarageCars     1460 non-null   int64  \n",
      " 62  GarageArea     1460 non-null   int64  \n",
      " 63  GarageQual     1379 non-null   object \n",
      " 64  GarageCond     1379 non-null   object \n",
      " 65  PavedDrive     1460 non-null   object \n",
      " 66  WoodDeckSF     1460 non-null   int64  \n",
      " 67  OpenPorchSF    1460 non-null   int64  \n",
      " 68  EnclosedPorch  1460 non-null   int64  \n",
      " 69  3SsnPorch      1460 non-null   int64  \n",
      " 70  ScreenPorch    1460 non-null   int64  \n",
      " 71  PoolArea       1460 non-null   int64  \n",
      " 72  PoolQC         7 non-null      object \n",
      " 73  Fence          281 non-null    object \n",
      " 74  MiscFeature    54 non-null     object \n",
      " 75  MiscVal        1460 non-null   int64  \n",
      " 76  MoSold         1460 non-null   int64  \n",
      " 77  YrSold         1460 non-null   int64  \n",
      " 78  SaleType       1460 non-null   object \n",
      " 79  SaleCondition  1460 non-null   object \n",
      " 80  SalePrice      1460 non-null   int64  \n",
      "dtypes: float64(3), int64(35), object(43)\n",
      "memory usage: 924.0+ KB\n"
     ]
    }
   ],
   "source": [
    "df.info()"
   ]
  },
  {
   "cell_type": "code",
   "execution_count": 9,
   "metadata": {},
   "outputs": [
    {
     "data": {
      "text/html": [
       "<div>\n",
       "<style scoped>\n",
       "    .dataframe tbody tr th:only-of-type {\n",
       "        vertical-align: middle;\n",
       "    }\n",
       "\n",
       "    .dataframe tbody tr th {\n",
       "        vertical-align: top;\n",
       "    }\n",
       "\n",
       "    .dataframe thead th {\n",
       "        text-align: right;\n",
       "    }\n",
       "</style>\n",
       "<table border=\"1\" class=\"dataframe\">\n",
       "  <thead>\n",
       "    <tr style=\"text-align: right;\">\n",
       "      <th></th>\n",
       "      <th>Id</th>\n",
       "      <th>MSSubClass</th>\n",
       "      <th>LotFrontage</th>\n",
       "      <th>LotArea</th>\n",
       "      <th>OverallQual</th>\n",
       "      <th>OverallCond</th>\n",
       "      <th>YearBuilt</th>\n",
       "      <th>YearRemodAdd</th>\n",
       "      <th>MasVnrArea</th>\n",
       "      <th>BsmtFinSF1</th>\n",
       "      <th>...</th>\n",
       "      <th>WoodDeckSF</th>\n",
       "      <th>OpenPorchSF</th>\n",
       "      <th>EnclosedPorch</th>\n",
       "      <th>3SsnPorch</th>\n",
       "      <th>ScreenPorch</th>\n",
       "      <th>PoolArea</th>\n",
       "      <th>MiscVal</th>\n",
       "      <th>MoSold</th>\n",
       "      <th>YrSold</th>\n",
       "      <th>SalePrice</th>\n",
       "    </tr>\n",
       "  </thead>\n",
       "  <tbody>\n",
       "    <tr>\n",
       "      <th>count</th>\n",
       "      <td>1460.000000</td>\n",
       "      <td>1460.000000</td>\n",
       "      <td>1201.000000</td>\n",
       "      <td>1460.000000</td>\n",
       "      <td>1460.000000</td>\n",
       "      <td>1460.000000</td>\n",
       "      <td>1460.000000</td>\n",
       "      <td>1460.000000</td>\n",
       "      <td>1452.000000</td>\n",
       "      <td>1460.000000</td>\n",
       "      <td>...</td>\n",
       "      <td>1460.000000</td>\n",
       "      <td>1460.000000</td>\n",
       "      <td>1460.000000</td>\n",
       "      <td>1460.000000</td>\n",
       "      <td>1460.000000</td>\n",
       "      <td>1460.000000</td>\n",
       "      <td>1460.000000</td>\n",
       "      <td>1460.000000</td>\n",
       "      <td>1460.000000</td>\n",
       "      <td>1460.000000</td>\n",
       "    </tr>\n",
       "    <tr>\n",
       "      <th>mean</th>\n",
       "      <td>730.500000</td>\n",
       "      <td>56.897260</td>\n",
       "      <td>70.049958</td>\n",
       "      <td>10516.828082</td>\n",
       "      <td>6.099315</td>\n",
       "      <td>5.575342</td>\n",
       "      <td>1971.267808</td>\n",
       "      <td>1984.865753</td>\n",
       "      <td>103.685262</td>\n",
       "      <td>443.639726</td>\n",
       "      <td>...</td>\n",
       "      <td>94.244521</td>\n",
       "      <td>46.660274</td>\n",
       "      <td>21.954110</td>\n",
       "      <td>3.409589</td>\n",
       "      <td>15.060959</td>\n",
       "      <td>2.758904</td>\n",
       "      <td>43.489041</td>\n",
       "      <td>6.321918</td>\n",
       "      <td>2007.815753</td>\n",
       "      <td>180921.195890</td>\n",
       "    </tr>\n",
       "    <tr>\n",
       "      <th>std</th>\n",
       "      <td>421.610009</td>\n",
       "      <td>42.300571</td>\n",
       "      <td>24.284752</td>\n",
       "      <td>9981.264932</td>\n",
       "      <td>1.382997</td>\n",
       "      <td>1.112799</td>\n",
       "      <td>30.202904</td>\n",
       "      <td>20.645407</td>\n",
       "      <td>181.066207</td>\n",
       "      <td>456.098091</td>\n",
       "      <td>...</td>\n",
       "      <td>125.338794</td>\n",
       "      <td>66.256028</td>\n",
       "      <td>61.119149</td>\n",
       "      <td>29.317331</td>\n",
       "      <td>55.757415</td>\n",
       "      <td>40.177307</td>\n",
       "      <td>496.123024</td>\n",
       "      <td>2.703626</td>\n",
       "      <td>1.328095</td>\n",
       "      <td>79442.502883</td>\n",
       "    </tr>\n",
       "    <tr>\n",
       "      <th>min</th>\n",
       "      <td>1.000000</td>\n",
       "      <td>20.000000</td>\n",
       "      <td>21.000000</td>\n",
       "      <td>1300.000000</td>\n",
       "      <td>1.000000</td>\n",
       "      <td>1.000000</td>\n",
       "      <td>1872.000000</td>\n",
       "      <td>1950.000000</td>\n",
       "      <td>0.000000</td>\n",
       "      <td>0.000000</td>\n",
       "      <td>...</td>\n",
       "      <td>0.000000</td>\n",
       "      <td>0.000000</td>\n",
       "      <td>0.000000</td>\n",
       "      <td>0.000000</td>\n",
       "      <td>0.000000</td>\n",
       "      <td>0.000000</td>\n",
       "      <td>0.000000</td>\n",
       "      <td>1.000000</td>\n",
       "      <td>2006.000000</td>\n",
       "      <td>34900.000000</td>\n",
       "    </tr>\n",
       "    <tr>\n",
       "      <th>25%</th>\n",
       "      <td>365.750000</td>\n",
       "      <td>20.000000</td>\n",
       "      <td>59.000000</td>\n",
       "      <td>7553.500000</td>\n",
       "      <td>5.000000</td>\n",
       "      <td>5.000000</td>\n",
       "      <td>1954.000000</td>\n",
       "      <td>1967.000000</td>\n",
       "      <td>0.000000</td>\n",
       "      <td>0.000000</td>\n",
       "      <td>...</td>\n",
       "      <td>0.000000</td>\n",
       "      <td>0.000000</td>\n",
       "      <td>0.000000</td>\n",
       "      <td>0.000000</td>\n",
       "      <td>0.000000</td>\n",
       "      <td>0.000000</td>\n",
       "      <td>0.000000</td>\n",
       "      <td>5.000000</td>\n",
       "      <td>2007.000000</td>\n",
       "      <td>129975.000000</td>\n",
       "    </tr>\n",
       "    <tr>\n",
       "      <th>50%</th>\n",
       "      <td>730.500000</td>\n",
       "      <td>50.000000</td>\n",
       "      <td>69.000000</td>\n",
       "      <td>9478.500000</td>\n",
       "      <td>6.000000</td>\n",
       "      <td>5.000000</td>\n",
       "      <td>1973.000000</td>\n",
       "      <td>1994.000000</td>\n",
       "      <td>0.000000</td>\n",
       "      <td>383.500000</td>\n",
       "      <td>...</td>\n",
       "      <td>0.000000</td>\n",
       "      <td>25.000000</td>\n",
       "      <td>0.000000</td>\n",
       "      <td>0.000000</td>\n",
       "      <td>0.000000</td>\n",
       "      <td>0.000000</td>\n",
       "      <td>0.000000</td>\n",
       "      <td>6.000000</td>\n",
       "      <td>2008.000000</td>\n",
       "      <td>163000.000000</td>\n",
       "    </tr>\n",
       "    <tr>\n",
       "      <th>75%</th>\n",
       "      <td>1095.250000</td>\n",
       "      <td>70.000000</td>\n",
       "      <td>80.000000</td>\n",
       "      <td>11601.500000</td>\n",
       "      <td>7.000000</td>\n",
       "      <td>6.000000</td>\n",
       "      <td>2000.000000</td>\n",
       "      <td>2004.000000</td>\n",
       "      <td>166.000000</td>\n",
       "      <td>712.250000</td>\n",
       "      <td>...</td>\n",
       "      <td>168.000000</td>\n",
       "      <td>68.000000</td>\n",
       "      <td>0.000000</td>\n",
       "      <td>0.000000</td>\n",
       "      <td>0.000000</td>\n",
       "      <td>0.000000</td>\n",
       "      <td>0.000000</td>\n",
       "      <td>8.000000</td>\n",
       "      <td>2009.000000</td>\n",
       "      <td>214000.000000</td>\n",
       "    </tr>\n",
       "    <tr>\n",
       "      <th>max</th>\n",
       "      <td>1460.000000</td>\n",
       "      <td>190.000000</td>\n",
       "      <td>313.000000</td>\n",
       "      <td>215245.000000</td>\n",
       "      <td>10.000000</td>\n",
       "      <td>9.000000</td>\n",
       "      <td>2010.000000</td>\n",
       "      <td>2010.000000</td>\n",
       "      <td>1600.000000</td>\n",
       "      <td>5644.000000</td>\n",
       "      <td>...</td>\n",
       "      <td>857.000000</td>\n",
       "      <td>547.000000</td>\n",
       "      <td>552.000000</td>\n",
       "      <td>508.000000</td>\n",
       "      <td>480.000000</td>\n",
       "      <td>738.000000</td>\n",
       "      <td>15500.000000</td>\n",
       "      <td>12.000000</td>\n",
       "      <td>2010.000000</td>\n",
       "      <td>755000.000000</td>\n",
       "    </tr>\n",
       "  </tbody>\n",
       "</table>\n",
       "<p>8 rows × 38 columns</p>\n",
       "</div>"
      ],
      "text/plain": [
       "                Id   MSSubClass  LotFrontage        LotArea  OverallQual  \\\n",
       "count  1460.000000  1460.000000  1201.000000    1460.000000  1460.000000   \n",
       "mean    730.500000    56.897260    70.049958   10516.828082     6.099315   \n",
       "std     421.610009    42.300571    24.284752    9981.264932     1.382997   \n",
       "min       1.000000    20.000000    21.000000    1300.000000     1.000000   \n",
       "25%     365.750000    20.000000    59.000000    7553.500000     5.000000   \n",
       "50%     730.500000    50.000000    69.000000    9478.500000     6.000000   \n",
       "75%    1095.250000    70.000000    80.000000   11601.500000     7.000000   \n",
       "max    1460.000000   190.000000   313.000000  215245.000000    10.000000   \n",
       "\n",
       "       OverallCond    YearBuilt  YearRemodAdd   MasVnrArea   BsmtFinSF1  ...  \\\n",
       "count  1460.000000  1460.000000   1460.000000  1452.000000  1460.000000  ...   \n",
       "mean      5.575342  1971.267808   1984.865753   103.685262   443.639726  ...   \n",
       "std       1.112799    30.202904     20.645407   181.066207   456.098091  ...   \n",
       "min       1.000000  1872.000000   1950.000000     0.000000     0.000000  ...   \n",
       "25%       5.000000  1954.000000   1967.000000     0.000000     0.000000  ...   \n",
       "50%       5.000000  1973.000000   1994.000000     0.000000   383.500000  ...   \n",
       "75%       6.000000  2000.000000   2004.000000   166.000000   712.250000  ...   \n",
       "max       9.000000  2010.000000   2010.000000  1600.000000  5644.000000  ...   \n",
       "\n",
       "        WoodDeckSF  OpenPorchSF  EnclosedPorch    3SsnPorch  ScreenPorch  \\\n",
       "count  1460.000000  1460.000000    1460.000000  1460.000000  1460.000000   \n",
       "mean     94.244521    46.660274      21.954110     3.409589    15.060959   \n",
       "std     125.338794    66.256028      61.119149    29.317331    55.757415   \n",
       "min       0.000000     0.000000       0.000000     0.000000     0.000000   \n",
       "25%       0.000000     0.000000       0.000000     0.000000     0.000000   \n",
       "50%       0.000000    25.000000       0.000000     0.000000     0.000000   \n",
       "75%     168.000000    68.000000       0.000000     0.000000     0.000000   \n",
       "max     857.000000   547.000000     552.000000   508.000000   480.000000   \n",
       "\n",
       "          PoolArea       MiscVal       MoSold       YrSold      SalePrice  \n",
       "count  1460.000000   1460.000000  1460.000000  1460.000000    1460.000000  \n",
       "mean      2.758904     43.489041     6.321918  2007.815753  180921.195890  \n",
       "std      40.177307    496.123024     2.703626     1.328095   79442.502883  \n",
       "min       0.000000      0.000000     1.000000  2006.000000   34900.000000  \n",
       "25%       0.000000      0.000000     5.000000  2007.000000  129975.000000  \n",
       "50%       0.000000      0.000000     6.000000  2008.000000  163000.000000  \n",
       "75%       0.000000      0.000000     8.000000  2009.000000  214000.000000  \n",
       "max     738.000000  15500.000000    12.000000  2010.000000  755000.000000  \n",
       "\n",
       "[8 rows x 38 columns]"
      ]
     },
     "execution_count": 9,
     "metadata": {},
     "output_type": "execute_result"
    }
   ],
   "source": [
    "df.describe()"
   ]
  },
  {
   "cell_type": "code",
   "execution_count": 10,
   "metadata": {},
   "outputs": [
    {
     "data": {
      "text/plain": [
       "<seaborn.axisgrid.FacetGrid at 0x1f606356700>"
      ]
     },
     "execution_count": 10,
     "metadata": {},
     "output_type": "execute_result"
    },
    {
     "data": {
      "image/png": "[encoded data removed]",
      "text/plain": [
       "<Figure size 360x360 with 1 Axes>"
      ]
     },
     "metadata": {
      "needs_background": "light"
     },
     "output_type": "display_data"
    }
   ],
   "source": [
    "#Distribution plot of label, appears to be normally distributed\n",
    "sns.displot(data=df,x='SalePrice')"
   ]
  },
  {
   "cell_type": "code",
   "execution_count": 11,
   "metadata": {},
   "outputs": [
    {
     "data": {
      "text/plain": [
       "SalePrice        1.000000\n",
       "OverallQual      0.790982\n",
       "GrLivArea        0.708624\n",
       "GarageCars       0.640409\n",
       "GarageArea       0.623431\n",
       "TotalBsmtSF      0.613581\n",
       "1stFlrSF         0.605852\n",
       "FullBath         0.560664\n",
       "TotRmsAbvGrd     0.533723\n",
       "YearBuilt        0.522897\n",
       "YearRemodAdd     0.507101\n",
       "GarageYrBlt      0.486362\n",
       "MasVnrArea       0.477493\n",
       "Fireplaces       0.466929\n",
       "BsmtFinSF1       0.386420\n",
       "LotFrontage      0.351799\n",
       "WoodDeckSF       0.324413\n",
       "2ndFlrSF         0.319334\n",
       "OpenPorchSF      0.315856\n",
       "HalfBath         0.284108\n",
       "LotArea          0.263843\n",
       "BsmtFullBath     0.227122\n",
       "BsmtUnfSF        0.214479\n",
       "BedroomAbvGr     0.168213\n",
       "ScreenPorch      0.111447\n",
       "PoolArea         0.092404\n",
       "MoSold           0.046432\n",
       "3SsnPorch        0.044584\n",
       "BsmtFinSF2      -0.011378\n",
       "BsmtHalfBath    -0.016844\n",
       "MiscVal         -0.021190\n",
       "Id              -0.021917\n",
       "LowQualFinSF    -0.025606\n",
       "YrSold          -0.028923\n",
       "OverallCond     -0.077856\n",
       "MSSubClass      -0.084284\n",
       "EnclosedPorch   -0.128578\n",
       "KitchenAbvGr    -0.135907\n",
       "Name: SalePrice, dtype: float64"
      ]
     },
     "execution_count": 11,
     "metadata": {},
     "output_type": "execute_result"
    }
   ],
   "source": [
    "#Correlation with label\n",
    "df.corr()['SalePrice'].sort_values(ascending=False)"
   ]
  },
  {
   "cell_type": "code",
   "execution_count": 12,
   "metadata": {},
   "outputs": [],
   "source": [
    "#check value_counts() of dimensions"
   ]
  },
  {
   "cell_type": "markdown",
   "metadata": {},
   "source": [
    "OverallQual column: Rates the overal material and finish of the house\n",
    "GrLivArea: Above grade (ground) living area square feet\n",
    "GarageCars: Size of garage in car capacity\n",
    "GarageArea: Size of garage in square feet\n"
   ]
  },
  {
   "cell_type": "code",
   "execution_count": 13,
   "metadata": {},
   "outputs": [
    {
     "data": {
      "text/plain": [
       "<AxesSubplot:>"
      ]
     },
     "execution_count": 13,
     "metadata": {},
     "output_type": "execute_result"
    },
    {
     "data": {
      "image/png": "[encoded data removed]",
      "text/plain": [
       "<Figure size 1728x720 with 2 Axes>"
      ]
     },
     "metadata": {
      "needs_background": "light"
     },
     "output_type": "display_data"
    }
   ],
   "source": [
    "plt.figure(figsize=(24,10))\n",
    "sns.heatmap(data=df.corr(),cmap='viridis')"
   ]
  },
  {
   "cell_type": "markdown",
   "metadata": {},
   "source": [
    "We can try predicting based on a manual selection on some of these dimensions or we can use Principal Component Analysis to reduce the dimensionality of this data set and eliminate multicollinearity among the predictor variables. We'll try reducing the dimensions first"
   ]
  },
  {
   "cell_type": "code",
   "execution_count": 14,
   "metadata": {},
   "outputs": [
    {
     "data": {
      "text/plain": [
       "<AxesSubplot:>"
      ]
     },
     "execution_count": 14,
     "metadata": {},
     "output_type": "execute_result"
    },
    {
     "data": {
      "image/png": "[encoded data removed]",
      "text/plain": [
       "<Figure size 1008x576 with 1 Axes>"
      ]
     },
     "metadata": {
      "needs_background": "light"
     },
     "output_type": "display_data"
    }
   ],
   "source": [
    "#Alley, PoolQC, Fence, MiscFeature are mostly empty. We can turn them into binary labels,\n",
    "#or drop them completely.\n",
    "plt.figure(figsize=(14,8))\n",
    "sns.heatmap(df.isnull(),yticklabels=False, cbar=False, cmap='viridis')"
   ]
  },
  {
   "cell_type": "code",
   "execution_count": 15,
   "metadata": {},
   "outputs": [
    {
     "data": {
      "text/plain": [
       "Grvl    50\n",
       "Pave    41\n",
       "Name: Alley, dtype: int64"
      ]
     },
     "execution_count": 15,
     "metadata": {},
     "output_type": "execute_result"
    }
   ],
   "source": [
    "#Alley\n",
    "df['Alley'].value_counts()"
   ]
  },
  {
   "cell_type": "code",
   "execution_count": 16,
   "metadata": {},
   "outputs": [],
   "source": [
    "df['Alley'] = df['Alley'].fillna(value='None')"
   ]
  },
  {
   "cell_type": "code",
   "execution_count": 17,
   "metadata": {},
   "outputs": [
    {
     "data": {
      "text/plain": [
       "Gd    3\n",
       "Ex    2\n",
       "Fa    2\n",
       "Name: PoolQC, dtype: int64"
      ]
     },
     "execution_count": 17,
     "metadata": {},
     "output_type": "execute_result"
    }
   ],
   "source": [
    "#PoolQC, only 7 values so I will drop\n",
    "df['PoolQC'].value_counts()"
   ]
  },
  {
   "cell_type": "code",
   "execution_count": 18,
   "metadata": {},
   "outputs": [],
   "source": [
    "df.drop(columns='PoolQC',axis=1,inplace=True)"
   ]
  },
  {
   "cell_type": "code",
   "execution_count": 19,
   "metadata": {},
   "outputs": [
    {
     "data": {
      "text/plain": [
       "MnPrv    157\n",
       "GdPrv     59\n",
       "GdWo      54\n",
       "MnWw      11\n",
       "Name: Fence, dtype: int64"
      ]
     },
     "execution_count": 19,
     "metadata": {},
     "output_type": "execute_result"
    }
   ],
   "source": [
    "#Fence\n",
    "df['Fence'].value_counts()"
   ]
  },
  {
   "cell_type": "code",
   "execution_count": 20,
   "metadata": {},
   "outputs": [],
   "source": [
    "#fillna for fence\n",
    "df['Fence'] = df['Fence'].fillna(value='None')"
   ]
  },
  {
   "cell_type": "code",
   "execution_count": 21,
   "metadata": {},
   "outputs": [
    {
     "data": {
      "text/plain": [
       "Shed    49\n",
       "Gar2     2\n",
       "Othr     2\n",
       "TenC     1\n",
       "Name: MiscFeature, dtype: int64"
      ]
     },
     "execution_count": 21,
     "metadata": {},
     "output_type": "execute_result"
    }
   ],
   "source": [
    "#MiscFeature, less than 5 percent are filled, and shed does not seem like it would matter \n",
    "#while the value of the tennis court house likely has other dimensions that will account for it\n",
    "df['MiscFeature'].value_counts()"
   ]
  },
  {
   "cell_type": "code",
   "execution_count": 22,
   "metadata": {},
   "outputs": [],
   "source": [
    "df.drop(columns='MiscFeature',axis=1,inplace=True)"
   ]
  },
  {
   "cell_type": "code",
   "execution_count": 23,
   "metadata": {},
   "outputs": [
    {
     "data": {
      "text/plain": [
       "0    690\n",
       "1    650\n",
       "2    115\n",
       "3      5\n",
       "Name: Fireplaces, dtype: int64"
      ]
     },
     "execution_count": 23,
     "metadata": {},
     "output_type": "execute_result"
    }
   ],
   "source": [
    "#Fireplaces is probably good enough without the fireplace quality column so we will drop it\n",
    "df['Fireplaces'].value_counts()"
   ]
  },
  {
   "cell_type": "code",
   "execution_count": 24,
   "metadata": {},
   "outputs": [],
   "source": [
    "df.drop(columns='FireplaceQu',axis=1,inplace=True)"
   ]
  },
  {
   "cell_type": "code",
   "execution_count": 25,
   "metadata": {},
   "outputs": [
    {
     "data": {
      "text/plain": [
       "<seaborn.axisgrid.FacetGrid at 0x1f606053160>"
      ]
     },
     "execution_count": 25,
     "metadata": {},
     "output_type": "execute_result"
    },
    {
     "data": {
      "image/png": "[encoded data removed]",
      "text/plain": [
       "<Figure size 360x360 with 1 Axes>"
      ]
     },
     "metadata": {
      "needs_background": "light"
     },
     "output_type": "display_data"
    }
   ],
   "source": [
    "#LotFrontage\n",
    "sns.displot(data=df,x='LotFrontage')"
   ]
  },
  {
   "cell_type": "code",
   "execution_count": 26,
   "metadata": {},
   "outputs": [],
   "source": [
    "#fillna of LotFrontage, replace with 0\n",
    "df['LotFrontage'] = df['LotFrontage'].fillna(value=0)"
   ]
  },
  {
   "cell_type": "code",
   "execution_count": 27,
   "metadata": {},
   "outputs": [],
   "source": [
    "#"
   ]
  },
  {
   "cell_type": "code",
   "execution_count": 28,
   "metadata": {},
   "outputs": [
    {
     "data": {
      "text/plain": [
       "Index(['MSZoning', 'Street', 'Alley', 'LotShape', 'LandContour', 'Utilities',\n",
       "       'LotConfig', 'LandSlope', 'Neighborhood', 'Condition1', 'Condition2',\n",
       "       'BldgType', 'HouseStyle', 'RoofStyle', 'RoofMatl', 'Exterior1st',\n",
       "       'Exterior2nd', 'MasVnrType', 'ExterQual', 'ExterCond', 'Foundation',\n",
       "       'BsmtQual', 'BsmtCond', 'BsmtExposure', 'BsmtFinType1', 'BsmtFinType2',\n",
       "       'Heating', 'HeatingQC', 'CentralAir', 'Electrical', 'KitchenQual',\n",
       "       'Functional', 'GarageType', 'GarageFinish', 'GarageQual', 'GarageCond',\n",
       "       'PavedDrive', 'Fence', 'SaleType', 'SaleCondition'],\n",
       "      dtype='object')"
      ]
     },
     "execution_count": 28,
     "metadata": {},
     "output_type": "execute_result"
    }
   ],
   "source": [
    "df.select_dtypes(include='object').columns"
   ]
  },
  {
   "cell_type": "code",
   "execution_count": 29,
   "metadata": {},
   "outputs": [],
   "source": [
    "#First get dummies from text columns\n",
    "df = pd.get_dummies(data=df,columns=['MSZoning', 'Street', 'Alley', 'LotShape', 'LandContour', 'Utilities',\n",
    "       'LotConfig', 'LandSlope', 'Neighborhood', 'Condition1', 'Condition2',\n",
    "       'BldgType', 'HouseStyle', 'RoofStyle', 'RoofMatl', 'Exterior1st',\n",
    "       'Exterior2nd', 'MasVnrType', 'ExterQual', 'ExterCond', 'Foundation',\n",
    "       'BsmtQual', 'BsmtCond', 'BsmtExposure', 'BsmtFinType1', 'BsmtFinType2',\n",
    "       'Heating', 'HeatingQC', 'CentralAir', 'Electrical', 'KitchenQual',\n",
    "       'Functional', 'GarageType', 'GarageFinish', 'GarageQual', 'GarageCond',\n",
    "       'PavedDrive', 'Fence', 'SaleType', 'SaleCondition'], drop_first=True)"
   ]
  },
  {
   "cell_type": "code",
   "execution_count": 30,
   "metadata": {},
   "outputs": [],
   "source": [
    "df.drop(labels='Id',axis=1,inplace=True)"
   ]
  },
  {
   "cell_type": "code",
   "execution_count": 31,
   "metadata": {},
   "outputs": [],
   "source": [
    "#quick drop of remaining NA rows, they represent less than 10% of data\n",
    "df.dropna(inplace=True)"
   ]
  },
  {
   "cell_type": "code",
   "execution_count": 32,
   "metadata": {},
   "outputs": [],
   "source": [
    "#remove label and Id column from PCA\n",
    "df_pca = df.drop(labels='SalePrice',axis=1)"
   ]
  },
  {
   "cell_type": "code",
   "execution_count": 33,
   "metadata": {},
   "outputs": [],
   "source": [
    "#standardize, fit, transform data\n",
    "scaler = StandardScaler()"
   ]
  },
  {
   "cell_type": "code",
   "execution_count": 34,
   "metadata": {},
   "outputs": [],
   "source": [
    "x_pca = scaler.fit_transform(df_pca)"
   ]
  },
  {
   "cell_type": "code",
   "execution_count": 35,
   "metadata": {},
   "outputs": [],
   "source": [
    "#PCA with 20 components, roughly 10% of the original number of dimensions\n",
    "pca = PCA(n_components=50)"
   ]
  },
  {
   "cell_type": "code",
   "execution_count": 36,
   "metadata": {},
   "outputs": [
    {
     "data": {
      "text/plain": [
       "PCA(n_components=50)"
      ]
     },
     "execution_count": 36,
     "metadata": {},
     "output_type": "execute_result"
    }
   ],
   "source": [
    "pca.fit(x_pca)"
   ]
  },
  {
   "cell_type": "code",
   "execution_count": 37,
   "metadata": {},
   "outputs": [],
   "source": [
    "#transform into 20 principal components\n",
    "x_pca = pca.transform(x_pca)"
   ]
  },
  {
   "cell_type": "code",
   "execution_count": 38,
   "metadata": {},
   "outputs": [
    {
     "data": {
      "text/plain": [
       "(1371, 50)"
      ]
     },
     "execution_count": 38,
     "metadata": {},
     "output_type": "execute_result"
    }
   ],
   "source": [
    "x_pca.shape"
   ]
  },
  {
   "cell_type": "code",
   "execution_count": 39,
   "metadata": {},
   "outputs": [
    {
     "data": {
      "text/plain": [
       "array([[ 0.00646388,  0.03808692,  0.02662367, ..., -0.01241539,\n",
       "        -0.06088895,  0.1120303 ],\n",
       "       [ 0.11850403, -0.00109439, -0.10547297, ..., -0.00282824,\n",
       "        -0.03973259,  0.06005746],\n",
       "       [-0.02794787,  0.09748528,  0.18197846, ...,  0.01132971,\n",
       "        -0.02162704,  0.01305577],\n",
       "       ...,\n",
       "       [ 0.06638556,  0.01394344, -0.0438681 , ..., -0.12377353,\n",
       "         0.02449595,  0.0234089 ],\n",
       "       [ 0.00611987, -0.01452303,  0.10924193, ...,  0.02716635,\n",
       "        -0.08430083,  0.03921761],\n",
       "       [-0.03262077, -0.01209377,  0.04463467, ...,  0.06488373,\n",
       "         0.00524051,  0.00096766]])"
      ]
     },
     "execution_count": 39,
     "metadata": {},
     "output_type": "execute_result"
    }
   ],
   "source": [
    "pca.components_"
   ]
  },
  {
   "cell_type": "code",
   "execution_count": 40,
   "metadata": {},
   "outputs": [],
   "source": [
    "x_pca = pd.DataFrame(pca.components_,columns=df_pca.columns)"
   ]
  },
  {
   "cell_type": "code",
   "execution_count": 41,
   "metadata": {},
   "outputs": [
    {
     "data": {
      "text/plain": [
       "<AxesSubplot:>"
      ]
     },
     "execution_count": 41,
     "metadata": {},
     "output_type": "execute_result"
    },
    {
     "data": {
      "image/png": "[encoded data removed]",
      "text/plain": [
       "<Figure size 1008x648 with 2 Axes>"
      ]
     },
     "metadata": {
      "needs_background": "light"
     },
     "output_type": "display_data"
    }
   ],
   "source": [
    "plt.figure(figsize=(14,9))\n",
    "sns.heatmap(x_pca)"
   ]
  },
  {
   "cell_type": "code",
   "execution_count": 42,
   "metadata": {},
   "outputs": [
    {
     "data": {
      "image/png": "[encoded data removed]",
      "text/plain": [
       "<Figure size 432x288 with 1 Axes>"
      ]
     },
     "metadata": {
      "needs_background": "light"
     },
     "output_type": "display_data"
    }
   ],
   "source": [
    "pd.DataFrame(pca.explained_variance_ratio_).plot.bar()\n",
    "plt.legend('')\n",
    "plt.xlabel('Principal Components')\n",
    "plt.ylabel('Explained Varience');"
   ]
  },
  {
   "cell_type": "code",
   "execution_count": 43,
   "metadata": {},
   "outputs": [
    {
     "data": {
      "text/plain": [
       "0.06888435769422506"
      ]
     },
     "execution_count": 43,
     "metadata": {},
     "output_type": "execute_result"
    }
   ],
   "source": [
    "#\n",
    "#We can run build a simple prediction model on this first component and check our results \n",
    "pca.explained_variance_ratio_[0]\n",
    "#x_pca[:1].stack().sort_values(ascending=False)"
   ]
  },
  {
   "cell_type": "markdown",
   "metadata": {},
   "source": [
    "The explained variance by the first principal vector is very low, so I will try to select features based on feature importance using a random forest regressor"
   ]
  },
  {
   "cell_type": "code",
   "execution_count": 44,
   "metadata": {},
   "outputs": [],
   "source": [
    "rf = RandomForestRegressor(max_depth=20)"
   ]
  },
  {
   "cell_type": "code",
   "execution_count": 45,
   "metadata": {},
   "outputs": [],
   "source": [
    "#need train test split, or a seperate variable to fit transform the label but not fit it\n",
    "X = df.drop(labels='SalePrice',axis=1)\n",
    "y = df['SalePrice']\n",
    "X_df = scaler.fit_transform(df.drop(labels='SalePrice',axis=1))"
   ]
  },
  {
   "cell_type": "code",
   "execution_count": 46,
   "metadata": {},
   "outputs": [
    {
     "data": {
      "text/plain": [
       "RandomForestRegressor(max_depth=20)"
      ]
     },
     "execution_count": 46,
     "metadata": {},
     "output_type": "execute_result"
    }
   ],
   "source": [
    "rf.fit(X_df,y)"
   ]
  },
  {
   "cell_type": "code",
   "execution_count": 47,
   "metadata": {},
   "outputs": [
    {
     "data": {
      "image/png": "[encoded data removed]",
      "text/plain": [
       "<Figure size 432x288 with 1 Axes>"
      ]
     },
     "metadata": {
      "needs_background": "light"
     },
     "output_type": "display_data"
    }
   ],
   "source": [
    "features = df.drop(labels='SalePrice',axis=1).columns\n",
    "importances = rf.feature_importances_\n",
    "indices = np.argsort(importances)[-20:]  # top 10 features\n",
    "plt.title('Feature Importances')\n",
    "plt.barh(range(len(indices)), importances[indices], color='b', align='center')\n",
    "plt.yticks(range(len(indices)), [features[i] for i in indices])\n",
    "plt.xlabel('Relative Importance')\n",
    "plt.show()"
   ]
  },
  {
   "cell_type": "code",
   "execution_count": 48,
   "metadata": {},
   "outputs": [
    {
     "data": {
      "text/plain": [
       "array([[1.        , 0.59123769],\n",
       "       [0.59123769, 1.        ]])"
      ]
     },
     "execution_count": 48,
     "metadata": {},
     "output_type": "execute_result"
    }
   ],
   "source": [
    "np.corrcoef(x=df['OverallQual'],y=df['GrLivArea'])"
   ]
  },
  {
   "cell_type": "code",
   "execution_count": 49,
   "metadata": {},
   "outputs": [
    {
     "data": {
      "text/plain": [
       "array([[1.        , 0.51950515],\n",
       "       [0.51950515, 1.        ]])"
      ]
     },
     "execution_count": 49,
     "metadata": {},
     "output_type": "execute_result"
    }
   ],
   "source": [
    "np.corrcoef(x=df['TotalBsmtSF'],y=df['BsmtFinSF1'])"
   ]
  },
  {
   "cell_type": "code",
   "execution_count": 50,
   "metadata": {},
   "outputs": [],
   "source": [
    "features = SelectFromModel(rf)"
   ]
  },
  {
   "cell_type": "code",
   "execution_count": 51,
   "metadata": {},
   "outputs": [],
   "source": [
    "Fit = features.fit_transform(X_df,y)"
   ]
  },
  {
   "cell_type": "code",
   "execution_count": 52,
   "metadata": {},
   "outputs": [
    {
     "name": "stdout",
     "output_type": "stream",
     "text": [
      "[[ 0.20624289 -0.21883609  0.6096228  ...  0.25614651 -0.77069864\n",
      "   0.21560696]\n",
      " [ 0.63470891 -0.10632348 -0.1346273  ... -0.21729719  1.58106361\n",
      "  -0.72343197]\n",
      " [ 0.2919361   0.05510767  0.6096228  ...  0.57894903 -0.77069864\n",
      "  -0.07688058]\n",
      " ...\n",
      " [ 0.23480729 -0.16091655  0.6096228  ... -1.33634592 -0.77069864\n",
      "   0.20021288]\n",
      " [ 0.2919361  -0.09487654 -0.8788774  ... -1.40090643  2.11770735\n",
      "  -0.72343197]\n",
      " [ 0.4918869  -0.07335239 -0.8788774  ... -1.20722491  5.03768062\n",
      "   0.32336552]]\n"
     ]
    }
   ],
   "source": [
    "print(Fit)"
   ]
  },
  {
   "cell_type": "code",
   "execution_count": 53,
   "metadata": {},
   "outputs": [],
   "source": [
    "#Train test split\n",
    "X_train, X_test, y_train, y_test = train_test_split(X, y, test_size=0.25, random_state=42)"
   ]
  },
  {
   "cell_type": "code",
   "execution_count": 54,
   "metadata": {},
   "outputs": [],
   "source": [
    "#Test regression models\n",
    "models = []\n",
    "models.append(('LinR', LinearRegression()))\n",
    "models.append(('SVR', SVR()))\n",
    "models.append(('KNR', KNeighborsRegressor()))\n",
    "models.append(('RF', RandomForestRegressor(max_depth=30)))\n",
    "models.append(('GBR', GradientBoostingRegressor()))\n",
    "models.append(('XGR', XGBRegressor()))\n",
    "models.append(('DT', DecisionTreeRegressor()))"
   ]
  },
  {
   "cell_type": "code",
   "execution_count": 55,
   "metadata": {},
   "outputs": [
    {
     "name": "stdout",
     "output_type": "stream",
     "text": [
      "LinR: 0.636931 (0.369156)\n",
      "SVR: -0.050942 (0.028558)\n",
      "KNR: 0.640661 (0.069700)\n",
      "RF: 0.846644 (0.078298)\n",
      "GBR: 0.886622 (0.061478)\n",
      "XGR: 0.839867 (0.101170)\n",
      "DT: 0.720352 (0.075987)\n"
     ]
    },
    {
     "data": {
      "image/png": "[encoded data removed]",
      "text/plain": [
       "<Figure size 432x288 with 1 Axes>"
      ]
     },
     "metadata": {
      "needs_background": "light"
     },
     "output_type": "display_data"
    }
   ],
   "source": [
    "results = []\n",
    "names = []\n",
    "scoring = 'accuracy'\n",
    "for name, model in models:\n",
    "    kfold = model_selection.KFold(n_splits=10)\n",
    "    cv_results = model_selection.cross_val_score(model, X_train, y_train, cv=kfold)\n",
    "    results.append(cv_results)\n",
    "    names.append(name)\n",
    "    msg = \"%s: %f (%f)\" % (name, cv_results.mean(), cv_results.std())\n",
    "    print(msg)\n",
    "# boxplot algorithm comparison\n",
    "fig = plt.figure()\n",
    "fig.suptitle('Comparison between different MLAs')\n",
    "ax = fig.add_subplot(111)\n",
    "plt.boxplot(results)\n",
    "ax.set_xticklabels(names)\n",
    "plt.show()"
   ]
  },
  {
   "cell_type": "markdown",
   "metadata": {},
   "source": [
    "Testing the best hyperparameters for RandomForestRegressor"
   ]
  },
  {
   "cell_type": "code",
   "execution_count": 56,
   "metadata": {},
   "outputs": [],
   "source": [
    "#The RandomForestRegressor seems to be the best choice of algorithm along with GradientBoost\n",
    "#We will use RandomizedSearchCV to find the best hyperparameters\n",
    "\n",
    "#number of trees\n",
    "n_estimators = [100,200,300,400,500,1000]\n",
    "\n",
    "#max number of features at every split\n",
    "max_features = ['auto','sqrt','log2']\n",
    "\n",
    "#max levels in tree\n",
    "max_depth=[10,20,30,40,50]\n",
    "max_depth.append(None)\n",
    "\n",
    "#min number of samples required to split a node\n",
    "min_samples_split = [2,5,10,15,20]\n",
    "\n",
    "#min samples per leaf\n",
    "min_samples_leaf = [1,2,5,10,15]\n",
    "\n",
    "#dictionary of parameters\n",
    "grid_param = {'n_estimators': n_estimators,\n",
    "             'max_features': max_features,\n",
    "             'max_depth': max_depth,\n",
    "             'min_samples_split': min_samples_split,\n",
    "             'min_samples_leaf': min_samples_leaf}"
   ]
  },
  {
   "cell_type": "code",
   "execution_count": 57,
   "metadata": {},
   "outputs": [],
   "source": [
    "rf = RandomForestRegressor()\n",
    "rf_random = RandomizedSearchCV(estimator=rf,\n",
    "                              param_distributions= grid_param, n_iter = 500,\n",
    "                              cv = 5, verbose = 2, n_jobs=-1)"
   ]
  },
  {
   "cell_type": "code",
   "execution_count": 58,
   "metadata": {
    "scrolled": true
   },
   "outputs": [],
   "source": [
    "#rf_random.fit(X, y)\n",
    "#print(rf_random.best_params_)"
   ]
  },
  {
   "cell_type": "code",
   "execution_count": 59,
   "metadata": {},
   "outputs": [],
   "source": [
    "#result: {'n_estimators': 200, 'min_samples_split': 2, 'min_samples_leaf': 1, 'max_features': 'auto', 'max_depth': 40}"
   ]
  },
  {
   "cell_type": "markdown",
   "metadata": {},
   "source": [
    "Testing the best hyperparameters for GradientBoostingRegressor"
   ]
  },
  {
   "cell_type": "code",
   "execution_count": 60,
   "metadata": {},
   "outputs": [],
   "source": [
    "#number of trees\n",
    "n_estimators = [100,200,300,400,500]\n",
    "\n",
    "#max levels in a tree\n",
    "max_depth=[1,2,3,4,8,10,20,30,40,50]\n",
    "max_depth.append(None)\n",
    "\n",
    "#learning rates\n",
    "learning_rate = [0.01,0.1,1,10,100]\n",
    "\n",
    "#min number of samples required to split a node\n",
    "min_samples_split = [2,5,10,15,20]\n",
    "\n",
    "#min samples per leaf\n",
    "min_samples_leaf = [1,2,5,10,15]\n",
    "\n",
    "grid_param = {'n_estimators': n_estimators,\n",
    "             'max_depth': max_depth,\n",
    "             'learning_rate': learning_rate,\n",
    "             'min_samples_split': min_samples_split,\n",
    "             'min_samples_leaf': min_samples_leaf}"
   ]
  },
  {
   "cell_type": "code",
   "execution_count": 61,
   "metadata": {},
   "outputs": [],
   "source": [
    "gbr = GradientBoostingRegressor()\n",
    "gbr_random = RandomizedSearchCV(estimator=gbr,\n",
    "                              param_distributions= grid_param, n_iter = 500,\n",
    "                              cv = 5, verbose = 2, n_jobs=-1)"
   ]
  },
  {
   "cell_type": "code",
   "execution_count": 62,
   "metadata": {},
   "outputs": [],
   "source": [
    "#gbr_random.fit(X,y)\n",
    "#print(gbr_random.best_params_)"
   ]
  },
  {
   "cell_type": "code",
   "execution_count": 63,
   "metadata": {},
   "outputs": [],
   "source": [
    "#best params: {'n_estimators': 200, 'min_samples_split': 10, 'min_samples_leaf': 1, 'max_depth': 2, 'learning_rate': 0.1}"
   ]
  },
  {
   "cell_type": "markdown",
   "metadata": {},
   "source": [
    "Testing the best hyperparameters for XGBRegressor"
   ]
  },
  {
   "cell_type": "code",
   "execution_count": 75,
   "metadata": {},
   "outputs": [],
   "source": [
    "#max levels in a tree\n",
    "max_depth=[1,2,3,4,8,10,20,30,40,50]\n",
    "max_depth.append(None)\n",
    "\n",
    "#min child weight\n",
    "min_child_weight = [1,3,5,7,9]\n",
    "\n",
    "#learning rates\n",
    "learning_rate = [0.01,.05,0.1,.5,1,10,100]\n",
    "\n",
    "#gamma\n",
    "gamma = [0.0,0.1,0.2,0.3,0.4,0.5]\n",
    "\n",
    "#colsample\n",
    "colsample_bytree = [.3,.4,.5,.6,.7]\n",
    "\n",
    "\n",
    "grid_param = {'max_depth': max_depth,\n",
    "             'min_child_weight': min_child_weight,\n",
    "             'learning_rate': learning_rate,\n",
    "             'gamma': gamma,\n",
    "             'colsample_bytree': colsample_bytree}"
   ]
  },
  {
   "cell_type": "code",
   "execution_count": 73,
   "metadata": {},
   "outputs": [],
   "source": [
    "xgb = XGBRegressor()\n",
    "xgb_random = RandomizedSearchCV(estimator=gbr,\n",
    "                              param_distributions= grid_param, n_iter = 500,\n",
    "                              cv = 5, verbose = 2, n_jobs=-1)"
   ]
  },
  {
   "cell_type": "code",
   "execution_count": 76,
   "metadata": {},
   "outputs": [],
   "source": [
    "#xgb_random.fit(X,y)"
   ]
  },
  {
   "cell_type": "code",
   "execution_count": null,
   "metadata": {},
   "outputs": [],
   "source": []
  },
  {
   "cell_type": "code",
   "execution_count": null,
   "metadata": {},
   "outputs": [],
   "source": []
  },
  {
   "cell_type": "code",
   "execution_count": null,
   "metadata": {},
   "outputs": [],
   "source": [
    "#Testing shap \n",
    "rf = RandomForestRegressor(n_estimators= 200, min_samples_split= 2, min_samples_leaf= 1, \n",
    "                           max_features= 'auto', max_depth= 40)"
   ]
  },
  {
   "cell_type": "code",
   "execution_count": null,
   "metadata": {},
   "outputs": [],
   "source": [
    "rf.fit(X_train,y_train)"
   ]
  },
  {
   "cell_type": "code",
   "execution_count": null,
   "metadata": {},
   "outputs": [],
   "source": [
    "score = rf.score(X_test,y_test)"
   ]
  },
  {
   "cell_type": "code",
   "execution_count": null,
   "metadata": {},
   "outputs": [],
   "source": [
    "explainer = shap.TreeExplainer(rf)\n",
    "shap_values = explainer.shap_values(X)"
   ]
  },
  {
   "cell_type": "code",
   "execution_count": null,
   "metadata": {},
   "outputs": [],
   "source": [
    "df.corr()['SalePrice'].sort_values(ascending=False)"
   ]
  },
  {
   "cell_type": "code",
   "execution_count": null,
   "metadata": {},
   "outputs": [],
   "source": [
    "shap.dependence_plot(ind='OverallQual', shap_values=shap_values, features=X,interaction_index='BsmtFinSF1')"
   ]
  },
  {
   "cell_type": "code",
   "execution_count": null,
   "metadata": {},
   "outputs": [],
   "source": [
    "#Top 20 features by impact on model output are listed below\n",
    "shap.summary_plot(shap_values, X)"
   ]
  },
  {
   "cell_type": "code",
   "execution_count": null,
   "metadata": {},
   "outputs": [],
   "source": []
  }
 ],
 "metadata": {
  "kernelspec": {
   "display_name": "Python 3",
   "language": "python",
   "name": "python3"
  },
  "language_info": {
   "codemirror_mode": {
    "name": "ipython",
    "version": 3
   },
   "file_extension": ".py",
   "mimetype": "text/x-python",
   "name": "python",
   "nbconvert_exporter": "python",
   "pygments_lexer": "ipython3",
   "version": "3.8.5"
  }
 },
 "nbformat": 4,
 "nbformat_minor": 4
}
